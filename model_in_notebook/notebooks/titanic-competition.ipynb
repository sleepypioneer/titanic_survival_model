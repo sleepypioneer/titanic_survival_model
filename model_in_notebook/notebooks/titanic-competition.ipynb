{
 "cells": [
  {
   "cell_type": "markdown",
   "metadata": {},
   "source": [
    "# Building a survival model for the Titanic Kaggle competition"
   ]
  },
  {
   "cell_type": "code",
   "execution_count": 1,
   "metadata": {},
   "outputs": [],
   "source": [
    "import pandas as pd\n",
    "import numpy as np\n",
    "import seaborn as sns\n",
    "from matplotlib import pyplot as plt\n",
    "%matplotlib inline"
   ]
  },
  {
   "cell_type": "markdown",
   "metadata": {},
   "source": [
    "### Importing the data"
   ]
  },
  {
   "cell_type": "code",
   "execution_count": 2,
   "metadata": {
    "_cell_guid": "79c7e3d0-c299-4dcb-8224-4455121ee9b0",
    "_uuid": "d629ff2d2480ee46fbb7e2d37f6b5fab8052498a"
   },
   "outputs": [],
   "source": [
    "# Read data out into train and test dataframes\n",
    "train = pd.read_csv('../data/train.csv', index_col='PassengerId')\n",
    "test = pd.read_csv('../data/test.csv', index_col='PassengerId')"
   ]
  },
  {
   "cell_type": "markdown",
   "metadata": {},
   "source": [
    "### Exploring the data"
   ]
  },
  {
   "cell_type": "code",
   "execution_count": 3,
   "metadata": {},
   "outputs": [
    {
     "data": {
      "text/html": [
       "<div>\n",
       "<style scoped>\n",
       "    .dataframe tbody tr th:only-of-type {\n",
       "        vertical-align: middle;\n",
       "    }\n",
       "\n",
       "    .dataframe tbody tr th {\n",
       "        vertical-align: top;\n",
       "    }\n",
       "\n",
       "    .dataframe thead th {\n",
       "        text-align: right;\n",
       "    }\n",
       "</style>\n",
       "<table border=\"1\" class=\"dataframe\">\n",
       "  <thead>\n",
       "    <tr style=\"text-align: right;\">\n",
       "      <th></th>\n",
       "      <th>Survived</th>\n",
       "      <th>Pclass</th>\n",
       "      <th>Name</th>\n",
       "      <th>Sex</th>\n",
       "      <th>Age</th>\n",
       "      <th>SibSp</th>\n",
       "      <th>Parch</th>\n",
       "      <th>Ticket</th>\n",
       "      <th>Fare</th>\n",
       "      <th>Cabin</th>\n",
       "      <th>Embarked</th>\n",
       "    </tr>\n",
       "    <tr>\n",
       "      <th>PassengerId</th>\n",
       "      <th></th>\n",
       "      <th></th>\n",
       "      <th></th>\n",
       "      <th></th>\n",
       "      <th></th>\n",
       "      <th></th>\n",
       "      <th></th>\n",
       "      <th></th>\n",
       "      <th></th>\n",
       "      <th></th>\n",
       "      <th></th>\n",
       "    </tr>\n",
       "  </thead>\n",
       "  <tbody>\n",
       "    <tr>\n",
       "      <th>1</th>\n",
       "      <td>0</td>\n",
       "      <td>3</td>\n",
       "      <td>Braund, Mr. Owen Harris</td>\n",
       "      <td>male</td>\n",
       "      <td>22.0</td>\n",
       "      <td>1</td>\n",
       "      <td>0</td>\n",
       "      <td>A/5 21171</td>\n",
       "      <td>7.2500</td>\n",
       "      <td>NaN</td>\n",
       "      <td>S</td>\n",
       "    </tr>\n",
       "    <tr>\n",
       "      <th>2</th>\n",
       "      <td>1</td>\n",
       "      <td>1</td>\n",
       "      <td>Cumings, Mrs. John Bradley (Florence Briggs Th...</td>\n",
       "      <td>female</td>\n",
       "      <td>38.0</td>\n",
       "      <td>1</td>\n",
       "      <td>0</td>\n",
       "      <td>PC 17599</td>\n",
       "      <td>71.2833</td>\n",
       "      <td>C85</td>\n",
       "      <td>C</td>\n",
       "    </tr>\n",
       "    <tr>\n",
       "      <th>3</th>\n",
       "      <td>1</td>\n",
       "      <td>3</td>\n",
       "      <td>Heikkinen, Miss. Laina</td>\n",
       "      <td>female</td>\n",
       "      <td>26.0</td>\n",
       "      <td>0</td>\n",
       "      <td>0</td>\n",
       "      <td>STON/O2. 3101282</td>\n",
       "      <td>7.9250</td>\n",
       "      <td>NaN</td>\n",
       "      <td>S</td>\n",
       "    </tr>\n",
       "    <tr>\n",
       "      <th>4</th>\n",
       "      <td>1</td>\n",
       "      <td>1</td>\n",
       "      <td>Futrelle, Mrs. Jacques Heath (Lily May Peel)</td>\n",
       "      <td>female</td>\n",
       "      <td>35.0</td>\n",
       "      <td>1</td>\n",
       "      <td>0</td>\n",
       "      <td>113803</td>\n",
       "      <td>53.1000</td>\n",
       "      <td>C123</td>\n",
       "      <td>S</td>\n",
       "    </tr>\n",
       "    <tr>\n",
       "      <th>5</th>\n",
       "      <td>0</td>\n",
       "      <td>3</td>\n",
       "      <td>Allen, Mr. William Henry</td>\n",
       "      <td>male</td>\n",
       "      <td>35.0</td>\n",
       "      <td>0</td>\n",
       "      <td>0</td>\n",
       "      <td>373450</td>\n",
       "      <td>8.0500</td>\n",
       "      <td>NaN</td>\n",
       "      <td>S</td>\n",
       "    </tr>\n",
       "  </tbody>\n",
       "</table>\n",
       "</div>"
      ],
      "text/plain": [
       "             Survived  Pclass  \\\n",
       "PassengerId                     \n",
       "1                   0       3   \n",
       "2                   1       1   \n",
       "3                   1       3   \n",
       "4                   1       1   \n",
       "5                   0       3   \n",
       "\n",
       "                                                          Name     Sex   Age  \\\n",
       "PassengerId                                                                    \n",
       "1                                      Braund, Mr. Owen Harris    male  22.0   \n",
       "2            Cumings, Mrs. John Bradley (Florence Briggs Th...  female  38.0   \n",
       "3                                       Heikkinen, Miss. Laina  female  26.0   \n",
       "4                 Futrelle, Mrs. Jacques Heath (Lily May Peel)  female  35.0   \n",
       "5                                     Allen, Mr. William Henry    male  35.0   \n",
       "\n",
       "             SibSp  Parch            Ticket     Fare Cabin Embarked  \n",
       "PassengerId                                                          \n",
       "1                1      0         A/5 21171   7.2500   NaN        S  \n",
       "2                1      0          PC 17599  71.2833   C85        C  \n",
       "3                0      0  STON/O2. 3101282   7.9250   NaN        S  \n",
       "4                1      0            113803  53.1000  C123        S  \n",
       "5                0      0            373450   8.0500   NaN        S  "
      ]
     },
     "execution_count": 3,
     "metadata": {},
     "output_type": "execute_result"
    }
   ],
   "source": [
    "# Print out the top 5 rows of the training data\n",
    "train.head()"
   ]
  },
  {
   "cell_type": "code",
   "execution_count": 4,
   "metadata": {},
   "outputs": [
    {
     "data": {
      "text/html": [
       "<div>\n",
       "<style scoped>\n",
       "    .dataframe tbody tr th:only-of-type {\n",
       "        vertical-align: middle;\n",
       "    }\n",
       "\n",
       "    .dataframe tbody tr th {\n",
       "        vertical-align: top;\n",
       "    }\n",
       "\n",
       "    .dataframe thead th {\n",
       "        text-align: right;\n",
       "    }\n",
       "</style>\n",
       "<table border=\"1\" class=\"dataframe\">\n",
       "  <thead>\n",
       "    <tr style=\"text-align: right;\">\n",
       "      <th></th>\n",
       "      <th>Pclass</th>\n",
       "      <th>Name</th>\n",
       "      <th>Sex</th>\n",
       "      <th>Age</th>\n",
       "      <th>SibSp</th>\n",
       "      <th>Parch</th>\n",
       "      <th>Ticket</th>\n",
       "      <th>Fare</th>\n",
       "      <th>Cabin</th>\n",
       "      <th>Embarked</th>\n",
       "    </tr>\n",
       "    <tr>\n",
       "      <th>PassengerId</th>\n",
       "      <th></th>\n",
       "      <th></th>\n",
       "      <th></th>\n",
       "      <th></th>\n",
       "      <th></th>\n",
       "      <th></th>\n",
       "      <th></th>\n",
       "      <th></th>\n",
       "      <th></th>\n",
       "      <th></th>\n",
       "    </tr>\n",
       "  </thead>\n",
       "  <tbody>\n",
       "    <tr>\n",
       "      <th>892</th>\n",
       "      <td>3</td>\n",
       "      <td>Kelly, Mr. James</td>\n",
       "      <td>male</td>\n",
       "      <td>34.5</td>\n",
       "      <td>0</td>\n",
       "      <td>0</td>\n",
       "      <td>330911</td>\n",
       "      <td>7.8292</td>\n",
       "      <td>NaN</td>\n",
       "      <td>Q</td>\n",
       "    </tr>\n",
       "    <tr>\n",
       "      <th>893</th>\n",
       "      <td>3</td>\n",
       "      <td>Wilkes, Mrs. James (Ellen Needs)</td>\n",
       "      <td>female</td>\n",
       "      <td>47.0</td>\n",
       "      <td>1</td>\n",
       "      <td>0</td>\n",
       "      <td>363272</td>\n",
       "      <td>7.0000</td>\n",
       "      <td>NaN</td>\n",
       "      <td>S</td>\n",
       "    </tr>\n",
       "    <tr>\n",
       "      <th>894</th>\n",
       "      <td>2</td>\n",
       "      <td>Myles, Mr. Thomas Francis</td>\n",
       "      <td>male</td>\n",
       "      <td>62.0</td>\n",
       "      <td>0</td>\n",
       "      <td>0</td>\n",
       "      <td>240276</td>\n",
       "      <td>9.6875</td>\n",
       "      <td>NaN</td>\n",
       "      <td>Q</td>\n",
       "    </tr>\n",
       "    <tr>\n",
       "      <th>895</th>\n",
       "      <td>3</td>\n",
       "      <td>Wirz, Mr. Albert</td>\n",
       "      <td>male</td>\n",
       "      <td>27.0</td>\n",
       "      <td>0</td>\n",
       "      <td>0</td>\n",
       "      <td>315154</td>\n",
       "      <td>8.6625</td>\n",
       "      <td>NaN</td>\n",
       "      <td>S</td>\n",
       "    </tr>\n",
       "    <tr>\n",
       "      <th>896</th>\n",
       "      <td>3</td>\n",
       "      <td>Hirvonen, Mrs. Alexander (Helga E Lindqvist)</td>\n",
       "      <td>female</td>\n",
       "      <td>22.0</td>\n",
       "      <td>1</td>\n",
       "      <td>1</td>\n",
       "      <td>3101298</td>\n",
       "      <td>12.2875</td>\n",
       "      <td>NaN</td>\n",
       "      <td>S</td>\n",
       "    </tr>\n",
       "  </tbody>\n",
       "</table>\n",
       "</div>"
      ],
      "text/plain": [
       "             Pclass                                          Name     Sex  \\\n",
       "PassengerId                                                                 \n",
       "892               3                              Kelly, Mr. James    male   \n",
       "893               3              Wilkes, Mrs. James (Ellen Needs)  female   \n",
       "894               2                     Myles, Mr. Thomas Francis    male   \n",
       "895               3                              Wirz, Mr. Albert    male   \n",
       "896               3  Hirvonen, Mrs. Alexander (Helga E Lindqvist)  female   \n",
       "\n",
       "              Age  SibSp  Parch   Ticket     Fare Cabin Embarked  \n",
       "PassengerId                                                       \n",
       "892          34.5      0      0   330911   7.8292   NaN        Q  \n",
       "893          47.0      1      0   363272   7.0000   NaN        S  \n",
       "894          62.0      0      0   240276   9.6875   NaN        Q  \n",
       "895          27.0      0      0   315154   8.6625   NaN        S  \n",
       "896          22.0      1      1  3101298  12.2875   NaN        S  "
      ]
     },
     "execution_count": 4,
     "metadata": {},
     "output_type": "execute_result"
    }
   ],
   "source": [
    "# Print out the top 5 rows of the test data\n",
    "test.head()"
   ]
  },
  {
   "cell_type": "code",
   "execution_count": 5,
   "metadata": {},
   "outputs": [
    {
     "name": "stdout",
     "output_type": "stream",
     "text": [
      "<class 'pandas.core.frame.DataFrame'>\n",
      "Int64Index: 891 entries, 1 to 891\n",
      "Data columns (total 11 columns):\n",
      " #   Column    Non-Null Count  Dtype  \n",
      "---  ------    --------------  -----  \n",
      " 0   Survived  891 non-null    int64  \n",
      " 1   Pclass    891 non-null    int64  \n",
      " 2   Name      891 non-null    object \n",
      " 3   Sex       891 non-null    object \n",
      " 4   Age       714 non-null    float64\n",
      " 5   SibSp     891 non-null    int64  \n",
      " 6   Parch     891 non-null    int64  \n",
      " 7   Ticket    891 non-null    object \n",
      " 8   Fare      891 non-null    float64\n",
      " 9   Cabin     204 non-null    object \n",
      " 10  Embarked  889 non-null    object \n",
      "dtypes: float64(2), int64(4), object(5)\n",
      "memory usage: 83.5+ KB\n"
     ]
    }
   ],
   "source": [
    "# look at the datatypes and null values for the training data\n",
    "train.info()"
   ]
  },
  {
   "cell_type": "code",
   "execution_count": 6,
   "metadata": {},
   "outputs": [
    {
     "name": "stdout",
     "output_type": "stream",
     "text": [
      "Train data columns:  Index(['Survived', 'Pclass', 'Name', 'Sex', 'Age', 'SibSp', 'Parch', 'Ticket',\n",
      "       'Fare', 'Cabin', 'Embarked'],\n",
      "      dtype='object')\n",
      "Test data columns:  Index(['Pclass', 'Name', 'Sex', 'Age', 'SibSp', 'Parch', 'Ticket', 'Fare',\n",
      "       'Cabin', 'Embarked'],\n",
      "      dtype='object')\n"
     ]
    }
   ],
   "source": [
    "# Look at the columns present in both training and test data\n",
    "print('Train data columns: ', train.columns)\n",
    "print('Test data columns: ', test.columns)"
   ]
  },
  {
   "cell_type": "code",
   "execution_count": 7,
   "metadata": {},
   "outputs": [
    {
     "name": "stdout",
     "output_type": "stream",
     "text": [
      "Categorical columns:  ['Name', 'Sex', 'Ticket', 'Cabin', 'Embarked']\n"
     ]
    }
   ],
   "source": [
    "# Look at what data is categorical data\n",
    "s = (train.dtypes == 'object')\n",
    "object_cols = list(s[s].index)\n",
    "print('Categorical columns: ', object_cols)"
   ]
  },
  {
   "cell_type": "markdown",
   "metadata": {},
   "source": [
    "### Exploring relationships in the data"
   ]
  },
  {
   "cell_type": "code",
   "execution_count": 8,
   "metadata": {},
   "outputs": [
    {
     "data": {
      "text/plain": [
       "Text(0.5, 1.0, 'Realtionship between age and fare split by survival on the Titanic')"
      ]
     },
     "execution_count": 8,
     "metadata": {},
     "output_type": "execute_result"
    },
    {
     "data": {
      "image/png": "[encoded data removed]",
      "text/plain": [
       "<Figure size 411.875x360 with 1 Axes>"
      ]
     },
     "metadata": {
      "needs_background": "light"
     },
     "output_type": "display_data"
    }
   ],
   "source": [
    "sns.lmplot(x='Age', y='Fare', hue='Survived', data=train)\n",
    "plt.title('Realtionship between age and fare split by survival on the Titanic')"
   ]
  },
  {
   "cell_type": "markdown",
   "metadata": {},
   "source": [
    "We can a positive coloration for those who surrived between thier age and the fare they paid. Showing that older passengers tended to pay more for their fare. We  However for those who did not surrive while still positive this relationship is less evident."
   ]
  },
  {
   "cell_type": "code",
   "execution_count": 9,
   "metadata": {},
   "outputs": [
    {
     "data": {
      "text/plain": [
       "Text(0.5, 1.0, 'Realtionship between having siblings or spouse with you and being a parent or child split by survival on the Titanic')"
      ]
     },
     "execution_count": 9,
     "metadata": {},
     "output_type": "execute_result"
    },
    {
     "data": {
      "image/png": "[encoded data removed]",
      "text/plain": [
       "<Figure size 411.875x360 with 1 Axes>"
      ]
     },
     "metadata": {
      "needs_background": "light"
     },
     "output_type": "display_data"
    }
   ],
   "source": [
    "sns.lmplot(x='Parch', y='SibSp', hue='Survived', data=train)\n",
    "plt.title('Realtionship between having siblings or spouse with you and being a parent or child split by survival on the Titanic')"
   ]
  },
  {
   "cell_type": "markdown",
   "metadata": {},
   "source": [
    "In both those who surrived and those who did not there is a positive correlation between a passenger having more siblings or spouse and being a parent or child, perhaps indicating the amount of families travelling aboard."
   ]
  },
  {
   "cell_type": "code",
   "execution_count": 52,
   "metadata": {
    "pycharm": {
     "is_executing": true
    }
   },
   "outputs": [
    {
     "data": {
      "text/plain": [
       "Text(0.5, 1.0, 'Realtionship between age and having a sibling or spouse split by survival on the Titanic')"
      ]
     },
     "execution_count": 52,
     "metadata": {},
     "output_type": "execute_result"
    },
    {
     "data": {
      "image/png": "[encoded data removed]",
      "text/plain": [
       "<Figure size 411.875x360 with 1 Axes>"
      ]
     },
     "metadata": {
      "needs_background": "light"
     },
     "output_type": "display_data"
    }
   ],
   "source": [
    "sns.lmplot(x='Age', y='SibSp', hue='Survived', data=train)\n",
    "plt.title('Realtionship between age and having a sibling or spouse split by survival on the Titanic')"
   ]
  },
  {
   "cell_type": "markdown",
   "metadata": {},
   "source": [
    "Here regardless of your surrival the older you were the less likely you had a sibling or spouse with you."
   ]
  },
  {
   "cell_type": "code",
   "execution_count": 53,
   "metadata": {
    "pycharm": {
     "is_executing": true
    }
   },
   "outputs": [
    {
     "data": {
      "text/plain": [
       "Survived  Sex   \n",
       "0         female     81\n",
       "          male      468\n",
       "1         female    233\n",
       "          male      109\n",
       "Name: Sex, dtype: int64"
      ]
     },
     "execution_count": 53,
     "metadata": {},
     "output_type": "execute_result"
    }
   ],
   "source": [
    "sex_grouped_by_survival = train.groupby(['Survived']).Sex.value_counts().sort_index()\n",
    "sex_grouped_by_survival"
   ]
  },
  {
   "cell_type": "code",
   "execution_count": 54,
   "metadata": {
    "pycharm": {
     "is_executing": true
    }
   },
   "outputs": [
    {
     "data": {
      "image/png": "[encoded data removed]",
      "text/plain": [
       "<Figure size 432x288 with 1 Axes>"
      ]
     },
     "metadata": {
      "needs_background": "light"
     },
     "output_type": "display_data"
    }
   ],
   "source": [
    "survived = plt.bar(range(len(sex_grouped_by_survival[0])), sex_grouped_by_survival[0], color='purple')\n",
    "died = plt.bar(range(len(sex_grouped_by_survival[1])), sex_grouped_by_survival[1], color='yellow', bottom=sex_grouped_by_survival[0])\n",
    "plt.legend([survived, died], ['Died', 'Survived'])\n",
    "labels = ['Female', 'Male', ]\n",
    "plt.xticks(range(len(sex_grouped_by_survival[1])), labels)\n",
    "plt.ylabel('Number of passengers')\n",
    "plt.title('Realtionship between a passengers Sex and survival on the Titanic')\n",
    "plt.show()"
   ]
  },
  {
   "cell_type": "raw",
   "metadata": {},
   "source": [
    "Here we see that more female passengers surrived in this data in comparison to male passengers. We can also conclude that in general the ratio of male passengers who survived compared to the total amount of male passengers aboard the titanic is very low where as a higher percentage of the female passengers survived."
   ]
  },
  {
   "cell_type": "markdown",
   "metadata": {},
   "source": [
    "### Looking at the relationship class and sex has on survival on the Titanic"
   ]
  },
  {
   "cell_type": "code",
   "execution_count": 55,
   "metadata": {
    "pycharm": {
     "is_executing": true
    }
   },
   "outputs": [
    {
     "name": "stdout",
     "output_type": "stream",
     "text": [
      "Sex     Pclass\n",
      "female  1         0.968085\n",
      "        2         0.921053\n",
      "        3         0.500000\n",
      "male    1         0.368852\n",
      "        2         0.157407\n",
      "        3         0.135447\n",
      "Name: Survived, dtype: float64\n",
      "Sex     Pclass\n",
      "female  1         0.176716\n",
      "        2         0.271448\n",
      "        3         0.501745\n",
      "male    1         0.484484\n",
      "        2         0.365882\n",
      "        3         0.342694\n",
      "Name: Survived, dtype: float64\n"
     ]
    }
   ],
   "source": [
    "print(train.groupby(['Sex', 'Pclass']).mean()['Survived'])\n",
    "print(train.groupby(['Sex', 'Pclass']).std()['Survived'])"
   ]
  },
  {
   "cell_type": "code",
   "execution_count": 56,
   "metadata": {
    "pycharm": {
     "is_executing": true
    }
   },
   "outputs": [
    {
     "data": {
      "text/plain": [
       "<AxesSubplot:xlabel='Survival,Class,Sex'>"
      ]
     },
     "execution_count": 56,
     "metadata": {},
     "output_type": "execute_result"
    },
    {
     "data": {
      "image/png": "[encoded data removed]",
      "text/plain": [
       "<Figure size 432x288 with 1 Axes>"
      ]
     },
     "metadata": {
      "needs_background": "light"
     },
     "output_type": "display_data"
    }
   ],
   "source": [
    "train['Survival'] = train.Survived.map(lambda t: 'Survived' if t == 1 else 'Died')\n",
    "train['Class'] = train.Pclass.map(lambda t: '1st class' if t == 1 else ('2nd class' if t == 2 else '3rd class'))\n",
    "\n",
    "(train\n",
    ".groupby(['Survival', 'Class', 'Sex'])\n",
    ".Class\n",
    ".count()\n",
    ".plot(kind='bar')\n",
    ")"
   ]
  },
  {
   "cell_type": "markdown",
   "metadata": {},
   "source": [
    "The largest group from the Titanic by far was 3rd class males who died by quite a gap. We can also see that females in 1st and 2nd class more often survived than died but females from 3rd class appear to be split in half between those which survived and those who did not."
   ]
  },
  {
   "cell_type": "markdown",
   "metadata": {},
   "source": [
    "### Female Passengers statistics (for the training data)"
   ]
  },
  {
   "cell_type": "code",
   "execution_count": 57,
   "metadata": {
    "pycharm": {
     "is_executing": true
    }
   },
   "outputs": [
    {
     "name": "stdout",
     "output_type": "stream",
     "text": [
      "Number of female passengers in training data:  314\n",
      "Number of female passengers under 18 in training data:  55\n",
      "Number of female passengers over 60 in training data:  3\n",
      "Number of female passengers traveling with a parent or child in training data:  120\n",
      "Number of female passengers traveling with a sibling or spouse in training data:  140\n",
      "Number of female passengers that survived in training data:  233\n",
      "Precentage of female passengers that survived in training data:  74.2%\n"
     ]
    }
   ],
   "source": [
    "#Number of Female passengers\n",
    "female_passengers = train.loc[train['Sex'] == 'female']\n",
    "print('Number of female passengers in training data: ', len(female_passengers))\n",
    "\n",
    "# Number of female passengers under 18\n",
    "female_passengers_under_18 = female_passengers.loc[female_passengers['Age'] < 18]\n",
    "print('Number of female passengers under 18 in training data: ', len(female_passengers_under_18))\n",
    "\n",
    "# Number of female passengers over 60\n",
    "female_passengers_over_60 = female_passengers.loc[female_passengers['Age'] > 60]\n",
    "print('Number of female passengers over 60 in training data: ', len(female_passengers_over_60))\n",
    "\n",
    "# Number of female passengers traveling with a parent or child\n",
    "female_passengers_parch = female_passengers.loc[female_passengers['Parch'] >= 1]\n",
    "print('Number of female passengers traveling with a parent or child in training data: ', len(female_passengers_parch))\n",
    "\n",
    "# Number of female passengers traveling with a sibling or spouse\n",
    "female_passengers_with_sibsp = female_passengers.loc[female_passengers['SibSp'] >= 1]\n",
    "print('Number of female passengers traveling with a sibling or spouse in training data: ', len(female_passengers_with_sibsp))\n",
    "\n",
    "# Number of female passengers who survived\n",
    "female_passengers_that_survived = female_passengers.loc[female_passengers['Survived'] == 1]\n",
    "print('Number of female passengers that survived in training data: ', len(female_passengers_that_survived))\n",
    "\n",
    "# Percentage of female passengers that survived f'{x:.0%}'\n",
    "print('Precentage of female passengers that survived in training data: ', f'{len(female_passengers_that_survived)/len(female_passengers)*100:.1f}%')"
   ]
  },
  {
   "cell_type": "markdown",
   "metadata": {},
   "source": [
    "The difference between class and surrival is not as large as I would have expected. I wonder if this graph is somewhat decieving as it's hard to read what was the truth for those in 3rd class. Did none surrive? It's hard to say. Only that the majority of surrivers were in the first and second class."
   ]
  },
  {
   "cell_type": "code",
   "execution_count": 58,
   "metadata": {
    "pycharm": {
     "is_executing": true
    }
   },
   "outputs": [
    {
     "name": "stdout",
     "output_type": "stream",
     "text": [
      "PassengerId\n",
      "1       Braund\n",
      "2      Cumings\n",
      "3    Heikkinen\n",
      "4     Futrelle\n",
      "5        Allen\n",
      "Name: Surname, dtype: object\n"
     ]
    }
   ],
   "source": [
    "# Extract surname into separate column\n",
    "train['Surname'] = train['Name'].map(lambda x: x.split(',')[0])\n",
    "print(train['Surname'][0:5])"
   ]
  },
  {
   "cell_type": "code",
   "execution_count": 59,
   "metadata": {
    "pycharm": {
     "is_executing": true
    }
   },
   "outputs": [
    {
     "name": "stdout",
     "output_type": "stream",
     "text": [
      "Mr 10340\n",
      "Mrs 2500\n",
      "Miss 3640\n",
      "Master 800\n",
      "Don 20\n",
      "Rev 120\n",
      "Dr 140\n",
      "Mme 20\n",
      "Ms 20\n",
      "Major 40\n",
      "Lady 20\n",
      "Sir 20\n",
      "Mlle 40\n",
      "Col 40\n",
      "Capt 20\n",
      "Countess 20\n",
      "Jonkheer 20\n"
     ]
    }
   ],
   "source": [
    "# Extract title into separate column\n",
    "train['Title'] = train['Name'].map(lambda x: x.split(',')[1].split('.')[0].strip())\n",
    "train['Title'] = train['Title'].map(lambda x: 'Countess' if x == 'the Countess' else x)\n",
    "# Mlle == Mademoiselle\n",
    "# Don ==  A head, tutor, or fellow at a college of Oxford or Cambridge. Or title for males in spanish speaking areas\n",
    "for title in train['Title'].unique():\n",
    "    print(title, train.loc[(train['Title'] == title)].size)"
   ]
  },
  {
   "cell_type": "code",
   "execution_count": 60,
   "metadata": {
    "pycharm": {
     "is_executing": true
    }
   },
   "outputs": [
    {
     "data": {
      "text/plain": [
       "<AxesSubplot:title={'center':'Title distribution of those who survived on the Titanic'}, xlabel='Title'>"
      ]
     },
     "execution_count": 60,
     "metadata": {},
     "output_type": "execute_result"
    },
    {
     "data": {
      "image/png": "[encoded data removed]",
      "text/plain": [
       "<Figure size 432x288 with 1 Axes>"
      ]
     },
     "metadata": {
      "needs_background": "light"
     },
     "output_type": "display_data"
    }
   ],
   "source": [
    "plt.title('Title distribution of those who survived on the Titanic')\n",
    "(train[train.Survived == 1]\n",
    ".groupby(['Title'])\n",
    ".Title\n",
    ".count()\n",
    ".plot(kind='bar')\n",
    ")"
   ]
  },
  {
   "cell_type": "code",
   "execution_count": 61,
   "metadata": {
    "pycharm": {
     "is_executing": true
    }
   },
   "outputs": [
    {
     "data": {
      "text/plain": [
       "<AxesSubplot:title={'center':'Title distribution of those who died on the Titanic'}, xlabel='Title'>"
      ]
     },
     "execution_count": 61,
     "metadata": {},
     "output_type": "execute_result"
    },
    {
     "data": {
      "image/png": "[encoded data removed]",
      "text/plain": [
       "<Figure size 432x288 with 1 Axes>"
      ]
     },
     "metadata": {
      "needs_background": "light"
     },
     "output_type": "display_data"
    }
   ],
   "source": [
    "plt.title('Title distribution of those who died on the Titanic')\n",
    "(train[train.Survived == 0]\n",
    ".groupby(['Title'])\n",
    ".Title\n",
    ".count()\n",
    ".plot(kind='bar')\n",
    ")"
   ]
  },
  {
   "cell_type": "markdown",
   "metadata": {},
   "source": [
    "It's hard to say if there is a correlation between title and survival. We can see see that the largest group of those who died held the title Mr. This relationship could be indirectly, for example master is a title for young men and more children surrived than adults."
   ]
  },
  {
   "cell_type": "code",
   "execution_count": 62,
   "metadata": {
    "pycharm": {
     "is_executing": true
    }
   },
   "outputs": [
    {
     "name": "stdout",
     "output_type": "stream",
     "text": [
      "PassengerId\n",
      "1      Owen Harris\n",
      "2     John Bradley\n",
      "3            Laina\n",
      "4    Jacques Heath\n",
      "5    William Henry\n",
      "Name: First_names, dtype: object\n"
     ]
    }
   ],
   "source": [
    "# Extract first name into separate column\n",
    "train['First_names'] = train['Name'].map(lambda x: x.split('.')[1].split('(')[0].strip())\n",
    "print(train['First_names'][0:5])"
   ]
  },
  {
   "cell_type": "code",
   "execution_count": 63,
   "metadata": {
    "pycharm": {
     "is_executing": true
    }
   },
   "outputs": [],
   "source": [
    "number_of_passengers_named_john = len(train.loc[train['First_names'] == 'John'])"
   ]
  },
  {
   "cell_type": "code",
   "execution_count": 64,
   "metadata": {
    "pycharm": {
     "is_executing": true
    }
   },
   "outputs": [
    {
     "data": {
      "text/plain": [
       "Survival  First_names  \n",
       "Survived                   13\n",
       "Died      John             10\n",
       "          William           9\n",
       "          James             7\n",
       "Survived  Bertha            4\n",
       "Died      Joseph            4\n",
       "          William Henry     3\n",
       "          Tannous           3\n",
       "          Thomas            3\n",
       "Survived  Mary              3\n",
       "Name: First_names, dtype: int64"
      ]
     },
     "execution_count": 64,
     "metadata": {},
     "output_type": "execute_result"
    }
   ],
   "source": [
    "(train\n",
    ".groupby(['Survival', 'First_names'])\n",
    ".First_names\n",
    ".count()\n",
    ".sort_values(ascending=False)\n",
    "[:10]\n",
    ")"
   ]
  },
  {
   "cell_type": "markdown",
   "metadata": {},
   "source": [
    "While it remains unlikely someone's first name would play a role in their survival on the Titanic interesting all of the passengers in the training data called John died. This isn't statistically so suprising as they were most likely male passengers and we've already discovered male passengers were predominently in the group which died. It may point to patterns in the names given to different classes if indeed such a thing existed."
   ]
  },
  {
   "cell_type": "code",
   "execution_count": 65,
   "metadata": {
    "pycharm": {
     "is_executing": true
    }
   },
   "outputs": [
    {
     "name": "stdout",
     "output_type": "stream",
     "text": [
      "PassengerId\n",
      "1                          \n",
      "2    Florence Briggs Thayer\n",
      "3                          \n",
      "4             Lily May Peel\n",
      "5                          \n",
      "Name: Alternative_name, dtype: object\n"
     ]
    }
   ],
   "source": [
    "# Extract alternative name into separate column\n",
    "train['Alternative_name'] = train['Name'].map(lambda x: x.split('(')[1].split(')')[0] if '(' in x else '')\n",
    "print(train['Alternative_name'][0:5])"
   ]
  },
  {
   "cell_type": "code",
   "execution_count": 66,
   "metadata": {
    "pycharm": {
     "is_executing": true
    }
   },
   "outputs": [
    {
     "name": "stdout",
     "output_type": "stream",
     "text": [
      " 748\n",
      "Thayer 1\n",
      "Peel 1\n",
      "Berg 1\n",
      "Achem 1\n",
      "Kingcome 1\n",
      "Vandemoortele 1\n",
      "Johansson 1\n",
      "Eugenie 1\n",
      "Larsson 1\n",
      "Wonnacott 1\n",
      "Franchi 1\n",
      "Haxtun 1\n",
      "Wilkinson 1\n",
      "Ramell 1\n",
      "Gustafsson 1\n",
      "Bone 1\n",
      "\"Pentcho\" 1\n",
      "Laury 1\n",
      "Pede 1\n",
      "Sultana 1\n",
      "Dolck 1\n",
      "\"Wennerstrom\" 1\n",
      "Hoffman\" 1\n",
      "Wearne 1\n",
      "Milne 1\n",
      "Bowerman 1\n",
      "Karlsson 1\n",
      "Godfrey 1\n",
      "Rolmane\" 1\n",
      "Rosa 1\n",
      "Tobin 1\n",
      "Harbeck\" 1\n",
      "\"Henry\" 1\n",
      "Wallach 1\n",
      "Anna 1\n",
      "Persson 1\n",
      "Wilhelmina 1\n",
      "Razi 1\n",
      "Davis 1\n",
      "Junkins 1\n",
      "Maidment 1\n",
      "Hunt 1\n",
      "Walton 1\n",
      "Chaput 1\n",
      "Vallejo 1\n",
      "Sylfven 1\n",
      "Sternin 1\n",
      "Stone 1\n",
      "Harbaugh 1\n",
      "Hall 2\n",
      "Brown 1\n",
      "Heinsheimer 1\n",
      "Finck 1\n",
      "David 1\n",
      "Atkinson 1\n",
      "Boulos 1\n",
      "Saks 1\n",
      "\"Mary\" 1\n",
      "Towner 1\n",
      "Bengtsson 1\n",
      "L 1\n",
      "Rowley 1\n",
      "Christian 1\n",
      "Brogren 2\n",
      "Winfield 1\n",
      "Marshall\" 2\n",
      "Trembisky 1\n",
      "White 1\n",
      "Slow 1\n",
      "Hocking 1\n",
      "Bloomfield 1\n",
      "Marion 1\n",
      "Worth 1\n",
      "Thuillard 1\n",
      "Hedwig 1\n",
      "Forby 1\n",
      "Daniels 1\n",
      "Richards 1\n",
      "Brayton\" 1\n",
      "Barrett 1\n",
      "Milley 1\n",
      "Hughes 2\n",
      "Fischer 1\n",
      "Rizk 1\n",
      "Clarke 1\n",
      "Zenni\" 1\n",
      "Sutherland 1\n",
      "Mandelbaum 1\n",
      "Emma 1\n",
      "Ogden 1\n",
      "Berglund 1\n",
      "Lamson 1\n",
      "\"Irving\" 1\n",
      "Munger 1\n",
      "Elias 1\n",
      "Morris 1\n",
      "Eustis 1\n",
      "Morgan\" 1\n",
      "Christy 1\n",
      "Haven\" 1\n",
      "Lafargue 1\n",
      "Stanlick 1\n",
      "Ojala 1\n",
      "Catherine 1\n",
      "Wright 1\n",
      "Ford 1\n",
      "Tyler 1\n",
      "Force 1\n",
      "George\" 1\n",
      "Villiers\" 1\n",
      "Jefferys 1\n",
      "Watson 1\n",
      "Laver 1\n",
      "Dyer-Edwards 1\n",
      "Polk 1\n",
      "Andrews 1\n",
      "Mary 1\n",
      "Needs 1\n",
      "McMillan 1\n",
      "Gillespie 1\n",
      "Lishin 1\n",
      "Farnham 1\n",
      "Govaert 1\n",
      "Tate 1\n",
      "Griggs 1\n",
      "Gregg 1\n",
      "Beila 1\n",
      "Evelyn 1\n",
      "Alexander 1\n",
      "Grabowska 1\n",
      "Rosen 1\n",
      "Hitchcock 1\n",
      "Qurban 1\n",
      "Barron 1\n",
      "Karolina 1\n",
      "Monypeny 1\n",
      "Wizosky 1\n",
      "Wilson 1\n",
      "Norton 1\n"
     ]
    }
   ],
   "source": [
    "# Extract alternative surname (most likely maiden name) into separate column\n",
    "train['Alternative_surname'] = train['Alternative_name'].map(lambda alt_name: '' if alt_name == '' else alt_name.split()[-1])\n",
    "for alt_surname in train['Alternative_surname'].unique():\n",
    "    print(alt_surname, train.loc[(train['Alternative_surname'] == alt_surname)].Alternative_surname.count())"
   ]
  },
  {
   "cell_type": "code",
   "execution_count": 67,
   "metadata": {
    "pycharm": {
     "is_executing": true
    }
   },
   "outputs": [
    {
     "name": "stdout",
     "output_type": "stream",
     "text": [
      "nan 0\n",
      "C85 20\n",
      "C123 40\n",
      "E46 20\n",
      "G6 80\n",
      "C103 20\n",
      "D56 20\n",
      "A6 20\n",
      "C23 C25 C27 80\n",
      "B78 20\n",
      "D33 40\n",
      "B30 20\n",
      "C52 40\n",
      "B28 40\n",
      "C83 40\n",
      "F33 60\n",
      "F G73 40\n",
      "E31 20\n",
      "A5 20\n",
      "D10 D12 20\n",
      "D26 40\n",
      "C110 20\n",
      "B58 B60 40\n",
      "E101 60\n",
      "F E69 20\n",
      "D47 20\n",
      "B86 20\n",
      "F2 60\n",
      "C2 40\n",
      "E33 40\n",
      "B19 20\n",
      "A7 20\n",
      "C49 20\n",
      "F4 40\n",
      "A32 20\n",
      "B4 20\n",
      "B80 20\n",
      "A31 20\n",
      "D36 40\n",
      "D15 20\n",
      "C93 40\n",
      "C78 40\n",
      "D35 40\n",
      "C87 20\n",
      "B77 40\n",
      "E67 40\n",
      "B94 20\n",
      "C125 40\n",
      "C99 20\n",
      "C118 20\n",
      "D7 20\n",
      "A19 20\n",
      "B49 40\n",
      "D 60\n",
      "C22 C26 60\n",
      "C106 20\n",
      "C65 40\n",
      "E36 20\n",
      "C54 20\n",
      "B57 B59 B63 B66 40\n",
      "C7 20\n",
      "E34 20\n",
      "C32 20\n",
      "B18 40\n",
      "C124 40\n",
      "C91 20\n",
      "E40 20\n",
      "T 20\n",
      "C128 20\n",
      "D37 20\n",
      "B35 40\n",
      "E50 20\n",
      "C82 20\n",
      "B96 B98 80\n",
      "E10 20\n",
      "E44 40\n",
      "A34 20\n",
      "C104 20\n",
      "C111 20\n",
      "C92 40\n",
      "E38 20\n",
      "D21 20\n",
      "E12 20\n",
      "E63 20\n",
      "A14 20\n",
      "B37 20\n",
      "C30 20\n",
      "D20 40\n",
      "B79 20\n",
      "E25 40\n",
      "D46 20\n",
      "B73 20\n",
      "C95 20\n",
      "B38 20\n",
      "B39 20\n",
      "B22 40\n",
      "C86 20\n",
      "C70 20\n",
      "A16 20\n",
      "C101 20\n",
      "C68 40\n",
      "A10 20\n",
      "E68 20\n",
      "B41 20\n",
      "A20 20\n",
      "D19 20\n",
      "D50 20\n",
      "D9 20\n",
      "A23 20\n",
      "B50 20\n",
      "A26 20\n",
      "D48 20\n",
      "E58 20\n",
      "C126 40\n",
      "B71 20\n",
      "B51 B53 B55 40\n",
      "D49 20\n",
      "B5 40\n",
      "B20 40\n",
      "F G63 20\n",
      "C62 C64 20\n",
      "E24 40\n",
      "C90 20\n",
      "C45 20\n",
      "E8 40\n",
      "B101 20\n",
      "D45 20\n",
      "C46 20\n",
      "D30 20\n",
      "E121 40\n",
      "D11 20\n",
      "E77 20\n",
      "F38 20\n",
      "B3 20\n",
      "D6 20\n",
      "B82 B84 20\n",
      "D17 40\n",
      "A36 20\n",
      "B102 20\n",
      "B69 20\n",
      "E49 20\n",
      "C47 20\n",
      "D28 20\n",
      "E17 20\n",
      "A24 20\n",
      "C50 20\n",
      "B42 20\n",
      "C148 20\n"
     ]
    }
   ],
   "source": [
    "# Look at how many values there are for cabin\n",
    "for cabin in train['Cabin'].unique():\n",
    "    print(cabin, train.loc[(train['Cabin'] == cabin)].size)"
   ]
  },
  {
   "cell_type": "code",
   "execution_count": 68,
   "metadata": {
    "pycharm": {
     "is_executing": true
    }
   },
   "outputs": [],
   "source": [
    "# Extract which deck a passager had their cabin based on the Cabin number\n",
    "train['Deck']= train['Cabin'].map(lambda x: 'Unknown' if str(x) == 'nan' else str(x)[0])"
   ]
  },
  {
   "cell_type": "code",
   "execution_count": 69,
   "metadata": {
    "pycharm": {
     "is_executing": true
    }
   },
   "outputs": [
    {
     "data": {
      "text/plain": [
       "<AxesSubplot:title={'center':'Realtionship between Deck and survival on the Titanic'}, xlabel='Survival,Deck'>"
      ]
     },
     "execution_count": 69,
     "metadata": {},
     "output_type": "execute_result"
    },
    {
     "data": {
      "image/png": "[encoded data removed]",
      "text/plain": [
       "<Figure size 432x288 with 1 Axes>"
      ]
     },
     "metadata": {
      "needs_background": "light"
     },
     "output_type": "display_data"
    }
   ],
   "source": [
    "plt.title('Realtionship between Deck and survival on the Titanic')\n",
    "(train[train.Deck != 'Unknown']\n",
    ".groupby(['Survival', 'Deck'])\n",
    ".Deck\n",
    ".count()\n",
    ".plot(kind='bar')\n",
    ")"
   ]
  },
  {
   "cell_type": "markdown",
   "metadata": {},
   "source": [
    "This maybe gives some insight to how decks were labelled on the titanic. We would ideally want to look at a map to see where the decks were to read more into these results. Did decks divide classes, did they also divide workers from passengers? Did all decks have the same amount of occupants? However it seems surrival seemed more likely if you were on deck E, D, B."
   ]
  },
  {
   "cell_type": "code",
   "execution_count": 70,
   "metadata": {
    "pycharm": {
     "is_executing": true
    }
   },
   "outputs": [
    {
     "data": {
      "text/plain": [
       "Deck  Survival\n",
       "A     Died         8\n",
       "      Survived     7\n",
       "B     Died        12\n",
       "      Survived    35\n",
       "C     Died        24\n",
       "      Survived    35\n",
       "D     Died         8\n",
       "      Survived    25\n",
       "E     Died         8\n",
       "      Survived    24\n",
       "F     Died         5\n",
       "      Survived     8\n",
       "G     Died         2\n",
       "      Survived     2\n",
       "T     Died         1\n",
       "Name: Deck, dtype: int64"
      ]
     },
     "execution_count": 70,
     "metadata": {},
     "output_type": "execute_result"
    }
   ],
   "source": [
    "deck_data = train[train.Deck != 'Unknown'].groupby(['Deck', 'Survival']).Deck.count() # remove unknowns as they skew the data\n",
    "deck_data\n"
   ]
  },
  {
   "cell_type": "code",
   "execution_count": 71,
   "metadata": {
    "pycharm": {
     "is_executing": true
    }
   },
   "outputs": [
    {
     "name": "stderr",
     "output_type": "stream",
     "text": [
      "<ipython-input-71-c9dd65f53064>:1: DeprecationWarning: The default dtype for empty Series will be 'object' instead of 'float64' in a future version. Specify a dtype explicitly to silence this warning.\n",
      "  deck_survival_ratio = pd.Series()\n"
     ]
    },
    {
     "data": {
      "text/plain": [
       "<AxesSubplot:title={'center':'Ratio of survival per deck on the Titanic'}>"
      ]
     },
     "execution_count": 71,
     "metadata": {},
     "output_type": "execute_result"
    },
    {
     "data": {
      "image/png": "[encoded data removed]",
      "text/plain": [
       "<Figure size 432x288 with 1 Axes>"
      ]
     },
     "metadata": {
      "needs_background": "light"
     },
     "output_type": "display_data"
    }
   ],
   "source": [
    "deck_survival_ratio = pd.Series()\n",
    "\n",
    "for deck in train.Deck:\n",
    "    survivors = train[(train.Deck == deck) & (train.Survived == 1)].Deck.count()\n",
    "    total_deck_passengers = train[train.Deck == deck].Deck.count()\n",
    "    ratio = (survivors/total_deck_passengers)*100\n",
    "    deck_survival_ratio[deck] = ratio\n",
    "\n",
    "plt.title('Ratio of survival per deck on the Titanic')\n",
    "deck_survival_ratio.sort_index().plot(kind='bar')"
   ]
  },
  {
   "cell_type": "code",
   "execution_count": 72,
   "metadata": {
    "pycharm": {
     "is_executing": true
    }
   },
   "outputs": [
    {
     "name": "stdout",
     "output_type": "stream",
     "text": [
      "['A/5' 'PC' 'STON/O2.' 'Unknown' 'PP' 'A/5.' 'C.A.' 'A./5.' 'SC/Paris'\n",
      " 'S.C./A.4.' 'A/4.' 'CA' 'S.P.' 'S.O.C.' 'SO/C' 'W./C.' 'SOTON/OQ'\n",
      " 'W.E.P.' 'STON/O' 'A4.' 'C' 'SOTON/O.Q.' 'SC/PARIS' 'S.O.P.' 'A.5.' 'Fa'\n",
      " 'CA.' 'LINE' 'F.C.C.' 'W/C' 'SW/PP' 'SCO/W' 'P/PP' 'SC' 'SC/AH' 'A/S'\n",
      " 'A/4' 'WE/P' 'S.W./PP' 'S.O./P.P.' 'F.C.' 'SOTON/O2' 'S.C./PARIS'\n",
      " 'C.A./SOTON']\n",
      "44\n"
     ]
    }
   ],
   "source": [
    "# Extract the ticket type (assuming potentially where they bought the ticket) from the ticket value\n",
    "train['Ticket_type'] = train['Ticket'].map(lambda x: x.split()[0] if any(c.isalpha() for c in x.split()[0]) else 'Unknown')\n",
    "print(train['Ticket_type'].unique())\n",
    "print(train['Ticket_type'].unique().size)"
   ]
  },
  {
   "cell_type": "code",
   "execution_count": 73,
   "metadata": {
    "pycharm": {
     "is_executing": true
    }
   },
   "outputs": [
    {
     "data": {
      "text/plain": [
       "<AxesSubplot:title={'center':'Realtionship between Ticket type and survival on the Titanic'}, xlabel='Survival,Ticket_type'>"
      ]
     },
     "execution_count": 73,
     "metadata": {},
     "output_type": "execute_result"
    },
    {
     "data": {
      "image/png": "[encoded data removed]",
      "text/plain": [
       "<Figure size 1152x720 with 1 Axes>"
      ]
     },
     "metadata": {
      "needs_background": "light"
     },
     "output_type": "display_data"
    }
   ],
   "source": [
    "plt.figure(figsize=(16,10))\n",
    "plt.title('Realtionship between Ticket type and survival on the Titanic')\n",
    "(train[train.Ticket_type != 'Unknown']\n",
    ".groupby(['Survival', 'Ticket_type'])\n",
    ".Ticket_type\n",
    ".count()\n",
    ".plot(kind='bar')\n",
    ")"
   ]
  },
  {
   "cell_type": "raw",
   "metadata": {},
   "source": [
    "Certain tickets seems to offer a better chance of surrival, was this because those tickets were only for a certain deck or class?"
   ]
  },
  {
   "cell_type": "code",
   "execution_count": 74,
   "metadata": {
    "pycharm": {
     "is_executing": true
    }
   },
   "outputs": [
    {
     "name": "stdout",
     "output_type": "stream",
     "text": [
      "A/5 10\n",
      "PC 60\n",
      "STON/O2. 6\n",
      "Unknown 661\n",
      "PP 3\n",
      "A/5. 7\n",
      "C.A. 27\n",
      "A./5. 2\n",
      "SC/Paris 4\n",
      "S.C./A.4. 1\n",
      "A/4. 3\n",
      "CA 6\n",
      "S.P. 1\n",
      "S.O.C. 5\n",
      "SO/C 1\n",
      "W./C. 9\n",
      "SOTON/OQ 7\n",
      "W.E.P. 1\n",
      "STON/O 12\n",
      "A4. 1\n",
      "C 5\n",
      "SOTON/O.Q. 8\n",
      "SC/PARIS 5\n",
      "S.O.P. 1\n",
      "A.5. 2\n",
      "Fa 1\n",
      "CA. 8\n",
      "LINE 4\n",
      "F.C.C. 5\n",
      "W/C 1\n",
      "SW/PP 1\n",
      "SCO/W 1\n",
      "P/PP 2\n",
      "SC 1\n",
      "SC/AH 3\n",
      "A/S 1\n",
      "A/4 3\n",
      "WE/P 2\n",
      "S.W./PP 1\n",
      "S.O./P.P. 3\n",
      "F.C. 1\n",
      "SOTON/O2 2\n",
      "S.C./PARIS 2\n",
      "C.A./SOTON 1\n"
     ]
    }
   ],
   "source": [
    "# Look at how many values there are for ticket tzpe\n",
    "for ticket in train['Ticket_type'].unique():\n",
    "    print(ticket, train.loc[(train['Ticket_type'] == ticket)].Ticket_type.count())"
   ]
  },
  {
   "cell_type": "code",
   "execution_count": 75,
   "metadata": {
    "pycharm": {
     "is_executing": true
    }
   },
   "outputs": [
    {
     "name": "stdout",
     "output_type": "stream",
     "text": [
      "PassengerId\n",
      "1    0\n",
      "2    1\n",
      "3    1\n",
      "4    1\n",
      "5    0\n",
      "Name: Survived, dtype: int64\n"
     ]
    },
    {
     "data": {
      "text/html": [
       "<div>\n",
       "<style scoped>\n",
       "    .dataframe tbody tr th:only-of-type {\n",
       "        vertical-align: middle;\n",
       "    }\n",
       "\n",
       "    .dataframe tbody tr th {\n",
       "        vertical-align: top;\n",
       "    }\n",
       "\n",
       "    .dataframe thead th {\n",
       "        text-align: right;\n",
       "    }\n",
       "</style>\n",
       "<table border=\"1\" class=\"dataframe\">\n",
       "  <thead>\n",
       "    <tr style=\"text-align: right;\">\n",
       "      <th></th>\n",
       "      <th>Pclass</th>\n",
       "      <th>Sex</th>\n",
       "      <th>Age</th>\n",
       "      <th>SibSp</th>\n",
       "      <th>Parch</th>\n",
       "      <th>Fare</th>\n",
       "      <th>Embarked</th>\n",
       "      <th>Title</th>\n",
       "      <th>Deck</th>\n",
       "      <th>Ticket_type</th>\n",
       "    </tr>\n",
       "    <tr>\n",
       "      <th>PassengerId</th>\n",
       "      <th></th>\n",
       "      <th></th>\n",
       "      <th></th>\n",
       "      <th></th>\n",
       "      <th></th>\n",
       "      <th></th>\n",
       "      <th></th>\n",
       "      <th></th>\n",
       "      <th></th>\n",
       "      <th></th>\n",
       "    </tr>\n",
       "  </thead>\n",
       "  <tbody>\n",
       "    <tr>\n",
       "      <th>1</th>\n",
       "      <td>3</td>\n",
       "      <td>male</td>\n",
       "      <td>22.0</td>\n",
       "      <td>1</td>\n",
       "      <td>0</td>\n",
       "      <td>7.2500</td>\n",
       "      <td>S</td>\n",
       "      <td>Mr</td>\n",
       "      <td>Unknown</td>\n",
       "      <td>A/5</td>\n",
       "    </tr>\n",
       "    <tr>\n",
       "      <th>2</th>\n",
       "      <td>1</td>\n",
       "      <td>female</td>\n",
       "      <td>38.0</td>\n",
       "      <td>1</td>\n",
       "      <td>0</td>\n",
       "      <td>71.2833</td>\n",
       "      <td>C</td>\n",
       "      <td>Mrs</td>\n",
       "      <td>C</td>\n",
       "      <td>PC</td>\n",
       "    </tr>\n",
       "    <tr>\n",
       "      <th>3</th>\n",
       "      <td>3</td>\n",
       "      <td>female</td>\n",
       "      <td>26.0</td>\n",
       "      <td>0</td>\n",
       "      <td>0</td>\n",
       "      <td>7.9250</td>\n",
       "      <td>S</td>\n",
       "      <td>Miss</td>\n",
       "      <td>Unknown</td>\n",
       "      <td>STON/O2.</td>\n",
       "    </tr>\n",
       "    <tr>\n",
       "      <th>4</th>\n",
       "      <td>1</td>\n",
       "      <td>female</td>\n",
       "      <td>35.0</td>\n",
       "      <td>1</td>\n",
       "      <td>0</td>\n",
       "      <td>53.1000</td>\n",
       "      <td>S</td>\n",
       "      <td>Mrs</td>\n",
       "      <td>C</td>\n",
       "      <td>Unknown</td>\n",
       "    </tr>\n",
       "    <tr>\n",
       "      <th>5</th>\n",
       "      <td>3</td>\n",
       "      <td>male</td>\n",
       "      <td>35.0</td>\n",
       "      <td>0</td>\n",
       "      <td>0</td>\n",
       "      <td>8.0500</td>\n",
       "      <td>S</td>\n",
       "      <td>Mr</td>\n",
       "      <td>Unknown</td>\n",
       "      <td>Unknown</td>\n",
       "    </tr>\n",
       "  </tbody>\n",
       "</table>\n",
       "</div>"
      ],
      "text/plain": [
       "             Pclass     Sex   Age  SibSp  Parch     Fare Embarked Title  \\\n",
       "PassengerId                                                               \n",
       "1                 3    male  22.0      1      0   7.2500        S    Mr   \n",
       "2                 1  female  38.0      1      0  71.2833        C   Mrs   \n",
       "3                 3  female  26.0      0      0   7.9250        S  Miss   \n",
       "4                 1  female  35.0      1      0  53.1000        S   Mrs   \n",
       "5                 3    male  35.0      0      0   8.0500        S    Mr   \n",
       "\n",
       "                Deck Ticket_type  \n",
       "PassengerId                       \n",
       "1            Unknown         A/5  \n",
       "2                  C          PC  \n",
       "3            Unknown    STON/O2.  \n",
       "4                  C     Unknown  \n",
       "5            Unknown     Unknown  "
      ]
     },
     "execution_count": 75,
     "metadata": {},
     "output_type": "execute_result"
    }
   ],
   "source": [
    "# Put feature columns into X_train dataframe\n",
    "# base_features = ['Pclass', 'Sex', 'Age', 'SibSp', 'Parch', 'Fare', 'Embarked', 'Surname', 'Title', 'Alternative_surname', 'Deck', 'Ticket_type']\n",
    "base_features = ['Pclass', 'Sex', 'Age', 'SibSp', 'Parch', 'Fare', 'Embarked', 'Title', 'Deck', 'Ticket_type']\n",
    "X_train = train[base_features].copy()\n",
    "X_train.index = train.index\n",
    "# Put survival value into y\n",
    "y = train['Survived']\n",
    "\n",
    "print(y.head())\n",
    "X_train.head()"
   ]
  },
  {
   "cell_type": "code",
   "execution_count": 76,
   "metadata": {
    "pycharm": {
     "is_executing": true
    }
   },
   "outputs": [
    {
     "name": "stdout",
     "output_type": "stream",
     "text": [
      "['Sex', 'Embarked', 'Title', 'Deck', 'Ticket_type']\n"
     ]
    }
   ],
   "source": [
    "# Look at what data is categorical data\n",
    "s = (X_train.dtypes == 'object')\n",
    "object_cols = list(s[s].index)\n",
    "print(object_cols)"
   ]
  },
  {
   "cell_type": "code",
   "execution_count": 77,
   "metadata": {
    "pycharm": {
     "is_executing": true
    }
   },
   "outputs": [
    {
     "name": "stdout",
     "output_type": "stream",
     "text": [
      "['S' 'C' 'Q' 'unknown']\n"
     ]
    }
   ],
   "source": [
    "# Update the Embarked column to replace nan values with unknown\n",
    "X_train['Embarked'] = X_train['Embarked'].fillna('unknown')\n",
    "\n",
    "print(X_train['Embarked'].unique())"
   ]
  },
  {
   "cell_type": "code",
   "execution_count": 78,
   "metadata": {
    "pycharm": {
     "is_executing": true
    }
   },
   "outputs": [],
   "source": [
    "# Update the Age column to replace nan values with the mean value\n",
    "X_train['Age'].fillna(X_train['Age'].mean(), inplace=True)"
   ]
  },
  {
   "cell_type": "code",
   "execution_count": 79,
   "metadata": {
    "pycharm": {
     "is_executing": true
    }
   },
   "outputs": [
    {
     "data": {
      "text/plain": [
       "[('Sex', 2), ('Embarked', 4), ('Deck', 9), ('Title', 17), ('Ticket_type', 44)]"
      ]
     },
     "execution_count": 79,
     "metadata": {},
     "output_type": "execute_result"
    }
   ],
   "source": [
    "# Check cardinality of categorical variables\n",
    "object_nunique = list(map(lambda col: X_train[col].nunique(), object_cols))\n",
    "d = dict(zip(object_cols, object_nunique))\n",
    "# Print in ascending order\n",
    "sorted(d.items(), key=lambda x: x[1])\n",
    "\n",
    "# We can conclude that for those with low cardinality we can use one-hot encoding and for the time being I am dropping those with high cardinality"
   ]
  },
  {
   "cell_type": "code",
   "execution_count": 80,
   "metadata": {
    "pycharm": {
     "is_executing": true
    }
   },
   "outputs": [],
   "source": [
    "# Assign categorical data columns to low or high cardinality lists\n",
    "low_cardinality = ['Deck', 'Title', 'Sex', 'Embarked', 'Ticket_type']\n",
    "# high_cardinality  = ['Ticket_type', 'Alternative_surname', 'Surname']"
   ]
  },
  {
   "cell_type": "code",
   "execution_count": 81,
   "metadata": {
    "pycharm": {
     "is_executing": true
    }
   },
   "outputs": [
    {
     "name": "stdout",
     "output_type": "stream",
     "text": [
      "<class 'pandas.core.frame.DataFrame'>\n",
      "Int64Index: 891 entries, 1 to 891\n",
      "Data columns (total 10 columns):\n",
      " #   Column       Non-Null Count  Dtype  \n",
      "---  ------       --------------  -----  \n",
      " 0   Pclass       891 non-null    int64  \n",
      " 1   Sex          891 non-null    object \n",
      " 2   Age          891 non-null    float64\n",
      " 3   SibSp        891 non-null    int64  \n",
      " 4   Parch        891 non-null    int64  \n",
      " 5   Fare         891 non-null    float64\n",
      " 6   Embarked     891 non-null    object \n",
      " 7   Title        891 non-null    object \n",
      " 8   Deck         891 non-null    object \n",
      " 9   Ticket_type  891 non-null    object \n",
      "dtypes: float64(2), int64(3), object(5)\n",
      "memory usage: 76.6+ KB\n"
     ]
    }
   ],
   "source": [
    "# from sklearn.preprocessing import LabelEncoder\n",
    "# label_encoder = LabelEncoder()\n",
    "# for col in high_cardinality:\n",
    "#     X_train[col] = label_encoder.fit_transform(X_train[col])\n",
    "\n",
    "X_train.head()\n",
    "X_train.info()"
   ]
  },
  {
   "cell_type": "code",
   "execution_count": 82,
   "metadata": {
    "pycharm": {
     "is_executing": true
    }
   },
   "outputs": [
    {
     "name": "stdout",
     "output_type": "stream",
     "text": [
      "OH_cols_train:  [0, 1, 2, 3, 4, 5, 6, 7, 8, 9, 10, 11, 12, 13, 14, 15, 16, 17, 18, 19, 20, 21, 22, 23, 24, 25, 26, 27, 28, 29, 30, 31, 32, 33, 34, 35, 36, 37, 38, 39, 40, 41, 42, 43, 44, 45, 46, 47, 48, 49, 50, 51, 52, 53, 54, 55, 56, 57, 58, 59, 60, 61, 62, 63, 64, 65, 66, 67, 68, 69, 70, 71, 72, 73, 74, 75]  shape  (891, 76)\n",
      "non_oh_encoded:  ['Pclass', 'Age', 'SibSp', 'Parch', 'Fare']  shape  (891, 5)\n",
      "OH_X_train:  ['Pclass', 'Age', 'SibSp', 'Parch', 'Fare', 0, 1, 2, 3, 4, 5, 6, 7, 8, 9, 10, 11, 12, 13, 14, 15, 16, 17, 18, 19, 20, 21, 22, 23, 24, 25, 26, 27, 28, 29, 30, 31, 32, 33, 34, 35, 36, 37, 38, 39, 40, 41, 42, 43, 44, 45, 46, 47, 48, 49, 50, 51, 52, 53, 54, 55, 56, 57, 58, 59, 60, 61, 62, 63, 64, 65, 66, 67, 68, 69, 70, 71, 72, 73, 74, 75]  shape  (891, 81)\n"
     ]
    },
    {
     "data": {
      "text/plain": [
       "Index(['Pclass',    'Age',  'SibSp',  'Parch',   'Fare',        0,        1,\n",
       "              2,        3,        4,        5,        6,        7,        8,\n",
       "              9,       10,       11,       12,       13,       14,       15,\n",
       "             16,       17,       18,       19,       20,       21,       22,\n",
       "             23,       24,       25,       26,       27,       28,       29,\n",
       "             30,       31,       32,       33,       34,       35,       36,\n",
       "             37,       38,       39,       40,       41,       42,       43,\n",
       "             44,       45,       46,       47,       48,       49,       50,\n",
       "             51,       52,       53,       54,       55,       56,       57,\n",
       "             58,       59,       60,       61,       62,       63,       64,\n",
       "             65,       66,       67,       68,       69,       70,       71,\n",
       "             72,       73,       74,       75],\n",
       "      dtype='object')"
      ]
     },
     "execution_count": 82,
     "metadata": {},
     "output_type": "execute_result"
    }
   ],
   "source": [
    "from sklearn.preprocessing import OneHotEncoder\n",
    "OH_encoder = OneHotEncoder(handle_unknown='ignore', sparse=False)\n",
    "OH_cols_train = pd.DataFrame(OH_encoder.fit_transform(X_train[low_cardinality]))\n",
    "print('OH_cols_train: ', OH_cols_train.columns.tolist(), ' shape ', OH_cols_train.shape)\n",
    "non_oh_encoded = X_train.drop(low_cardinality, axis=1)\n",
    "OH_cols_train.index = X_train.index\n",
    "print('non_oh_encoded: ', non_oh_encoded.columns.tolist(), ' shape ', non_oh_encoded.shape)\n",
    "OH_X_train = pd.concat([non_oh_encoded, OH_cols_train], axis=1)\n",
    "OH_X_train.index = X_train.index\n",
    "print('OH_X_train: ', OH_X_train.columns.tolist(), ' shape ', OH_X_train.shape)\n",
    "OH_X_train.columns"
   ]
  },
  {
   "cell_type": "code",
   "execution_count": 83,
   "metadata": {
    "pycharm": {
     "is_executing": true
    }
   },
   "outputs": [],
   "source": [
    "# update column names to string type\n",
    "OH_X_train.columns = OH_X_train.columns.astype(str)"
   ]
  },
  {
   "cell_type": "code",
   "execution_count": 84,
   "metadata": {
    "pycharm": {
     "is_executing": true
    }
   },
   "outputs": [],
   "source": [
    "from sklearn.model_selection import train_test_split\n",
    "train_X, val_X, train_y, val_y = train_test_split(OH_X_train, y, random_state = 0)"
   ]
  },
  {
   "cell_type": "code",
   "execution_count": 85,
   "metadata": {
    "pycharm": {
     "is_executing": true
    }
   },
   "outputs": [
    {
     "name": "stderr",
     "output_type": "stream",
     "text": [
      "<ipython-input-85-b3c74f6ec8dc>:1: SettingWithCopyWarning: \n",
      "A value is trying to be set on a copy of a slice from a DataFrame\n",
      "\n",
      "See the caveats in the documentation: https://pandas.pydata.org/pandas-docs/stable/user_guide/indexing.html#returning-a-view-versus-a-copy\n",
      "  val_X.dropna(axis=0, how='any', inplace=True)\n"
     ]
    }
   ],
   "source": [
    "val_X.dropna(axis=0, how='any', inplace=True)"
   ]
  },
  {
   "cell_type": "code",
   "execution_count": 86,
   "metadata": {
    "pycharm": {
     "is_executing": true
    }
   },
   "outputs": [
    {
     "name": "stdout",
     "output_type": "stream",
     "text": [
      "Index(['Pclass', 'Age', 'SibSp', 'Parch', 'Fare', '0', '1', '2', '3', '4', '5',\n",
      "       '6', '7', '8', '9', '10', '11', '12', '13', '14', '15', '16', '17',\n",
      "       '18', '19', '20', '21', '22', '23', '24', '25', '26', '27', '28', '29',\n",
      "       '30', '31', '32', '33', '34', '35', '36', '37', '38', '39', '40', '41',\n",
      "       '42', '43', '44', '45', '46', '47', '48', '49', '50', '51', '52', '53',\n",
      "       '54', '55', '56', '57', '58', '59', '60', '61', '62', '63', '64', '65',\n",
      "       '66', '67', '68', '69', '70', '71', '72', '73', '74', '75'],\n",
      "      dtype='object')\n"
     ]
    }
   ],
   "source": [
    "print(train_X.columns)"
   ]
  },
  {
   "cell_type": "code",
   "execution_count": 87,
   "metadata": {
    "pycharm": {
     "is_executing": true
    }
   },
   "outputs": [
    {
     "data": {
      "text/plain": [
       "RandomForestClassifier(random_state=0)"
      ]
     },
     "execution_count": 87,
     "metadata": {},
     "output_type": "execute_result"
    }
   ],
   "source": [
    "from sklearn.ensemble import RandomForestClassifier\n",
    "rf_model = RandomForestClassifier(random_state=0)\n",
    "rf_model.fit(train_X, train_y.values.ravel())"
   ]
  },
  {
   "cell_type": "code",
   "execution_count": 88,
   "metadata": {
    "pycharm": {
     "is_executing": true
    }
   },
   "outputs": [],
   "source": [
    "predictions = rf_model.predict(val_X)"
   ]
  },
  {
   "cell_type": "code",
   "execution_count": 89,
   "metadata": {
    "pycharm": {
     "is_executing": true
    }
   },
   "outputs": [
    {
     "name": "stdout",
     "output_type": "stream",
     "text": [
      "[0 0 0 1 1]\n",
      "PassengerId\n",
      "496    0\n",
      "649    0\n",
      "279    0\n",
      "32     1\n",
      "256    1\n",
      "Name: Survived, dtype: int64\n",
      "Accuracy: 0.85%\n"
     ]
    }
   ],
   "source": [
    "print(predictions[0:5])\n",
    "print(val_y[0:5])\n",
    "print(f'Accuracy: {rf_model.score(val_X, val_y):.2f}%')"
   ]
  },
  {
   "cell_type": "code",
   "execution_count": 90,
   "metadata": {
    "pycharm": {
     "is_executing": true
    }
   },
   "outputs": [
    {
     "data": {
      "text/html": [
       "\n",
       "    <style>\n",
       "    table.eli5-weights tr:hover {\n",
       "        filter: brightness(85%);\n",
       "    }\n",
       "</style>\n",
       "\n",
       "\n",
       "\n",
       "    \n",
       "\n",
       "    \n",
       "\n",
       "    \n",
       "\n",
       "    \n",
       "\n",
       "    \n",
       "\n",
       "    \n",
       "\n",
       "\n",
       "    \n",
       "\n",
       "    \n",
       "\n",
       "    \n",
       "\n",
       "    \n",
       "\n",
       "    \n",
       "\n",
       "    \n",
       "\n",
       "\n",
       "    \n",
       "\n",
       "    \n",
       "\n",
       "    \n",
       "\n",
       "    \n",
       "\n",
       "    \n",
       "        <table class=\"eli5-weights eli5-feature-importances\" style=\"border-collapse: collapse; border: none; margin-top: 0em; table-layout: auto;\">\n",
       "    <thead>\n",
       "    <tr style=\"border: none;\">\n",
       "        <th style=\"padding: 0 1em 0 0.5em; text-align: right; border: none;\">Weight</th>\n",
       "        <th style=\"padding: 0 0.5em 0 0.5em; text-align: left; border: none;\">Feature</th>\n",
       "    </tr>\n",
       "    </thead>\n",
       "    <tbody>\n",
       "    \n",
       "        <tr style=\"background-color: hsl(120, 100.00%, 80.00%); border: none;\">\n",
       "            <td style=\"padding: 0 1em 0 0.5em; text-align: right; border: none;\">\n",
       "                0.0664\n",
       "                \n",
       "                    &plusmn; 0.0297\n",
       "                \n",
       "            </td>\n",
       "            <td style=\"padding: 0 0.5em 0 0.5em; text-align: left; border: none;\">\n",
       "                Fare\n",
       "            </td>\n",
       "        </tr>\n",
       "    \n",
       "        <tr style=\"background-color: hsl(120, 100.00%, 84.17%); border: none;\">\n",
       "            <td style=\"padding: 0 1em 0 0.5em; text-align: right; border: none;\">\n",
       "                0.0475\n",
       "                \n",
       "                    &plusmn; 0.0091\n",
       "                \n",
       "            </td>\n",
       "            <td style=\"padding: 0 0.5em 0 0.5em; text-align: left; border: none;\">\n",
       "                Pclass\n",
       "            </td>\n",
       "        </tr>\n",
       "    \n",
       "        <tr style=\"background-color: hsl(120, 100.00%, 85.44%); border: none;\">\n",
       "            <td style=\"padding: 0 1em 0 0.5em; text-align: right; border: none;\">\n",
       "                0.0422\n",
       "                \n",
       "                    &plusmn; 0.0303\n",
       "                \n",
       "            </td>\n",
       "            <td style=\"padding: 0 0.5em 0 0.5em; text-align: left; border: none;\">\n",
       "                21\n",
       "            </td>\n",
       "        </tr>\n",
       "    \n",
       "        <tr style=\"background-color: hsl(120, 100.00%, 87.00%); border: none;\">\n",
       "            <td style=\"padding: 0 1em 0 0.5em; text-align: right; border: none;\">\n",
       "                0.0359\n",
       "                \n",
       "                    &plusmn; 0.0170\n",
       "                \n",
       "            </td>\n",
       "            <td style=\"padding: 0 0.5em 0 0.5em; text-align: left; border: none;\">\n",
       "                Age\n",
       "            </td>\n",
       "        </tr>\n",
       "    \n",
       "        <tr style=\"background-color: hsl(120, 100.00%, 92.86%); border: none;\">\n",
       "            <td style=\"padding: 0 1em 0 0.5em; text-align: right; border: none;\">\n",
       "                0.0152\n",
       "                \n",
       "                    &plusmn; 0.0156\n",
       "                \n",
       "            </td>\n",
       "            <td style=\"padding: 0 0.5em 0 0.5em; text-align: left; border: none;\">\n",
       "                71\n",
       "            </td>\n",
       "        </tr>\n",
       "    \n",
       "        <tr style=\"background-color: hsl(120, 100.00%, 93.76%); border: none;\">\n",
       "            <td style=\"padding: 0 1em 0 0.5em; text-align: right; border: none;\">\n",
       "                0.0126\n",
       "                \n",
       "                    &plusmn; 0.0223\n",
       "                \n",
       "            </td>\n",
       "            <td style=\"padding: 0 0.5em 0 0.5em; text-align: left; border: none;\">\n",
       "                SibSp\n",
       "            </td>\n",
       "        </tr>\n",
       "    \n",
       "        <tr style=\"background-color: hsl(120, 100.00%, 94.40%); border: none;\">\n",
       "            <td style=\"padding: 0 1em 0 0.5em; text-align: right; border: none;\">\n",
       "                0.0108\n",
       "                \n",
       "                    &plusmn; 0.0166\n",
       "                \n",
       "            </td>\n",
       "            <td style=\"padding: 0 0.5em 0 0.5em; text-align: left; border: none;\">\n",
       "                27\n",
       "            </td>\n",
       "        </tr>\n",
       "    \n",
       "        <tr style=\"background-color: hsl(120, 100.00%, 95.07%); border: none;\">\n",
       "            <td style=\"padding: 0 1em 0 0.5em; text-align: right; border: none;\">\n",
       "                0.0090\n",
       "                \n",
       "                    &plusmn; 0.0150\n",
       "                \n",
       "            </td>\n",
       "            <td style=\"padding: 0 0.5em 0 0.5em; text-align: left; border: none;\">\n",
       "                30\n",
       "            </td>\n",
       "        </tr>\n",
       "    \n",
       "        <tr style=\"background-color: hsl(120, 100.00%, 96.16%); border: none;\">\n",
       "            <td style=\"padding: 0 1em 0 0.5em; text-align: right; border: none;\">\n",
       "                0.0063\n",
       "                \n",
       "                    &plusmn; 0.0044\n",
       "                \n",
       "            </td>\n",
       "            <td style=\"padding: 0 0.5em 0 0.5em; text-align: left; border: none;\">\n",
       "                50\n",
       "            </td>\n",
       "        </tr>\n",
       "    \n",
       "        <tr style=\"background-color: hsl(120, 100.00%, 96.97%); border: none;\">\n",
       "            <td style=\"padding: 0 1em 0 0.5em; text-align: right; border: none;\">\n",
       "                0.0045\n",
       "                \n",
       "                    &plusmn; 0.0000\n",
       "                \n",
       "            </td>\n",
       "            <td style=\"padding: 0 0.5em 0 0.5em; text-align: left; border: none;\">\n",
       "                1\n",
       "            </td>\n",
       "        </tr>\n",
       "    \n",
       "        <tr style=\"background-color: hsl(120, 100.00%, 97.41%); border: none;\">\n",
       "            <td style=\"padding: 0 1em 0 0.5em; text-align: right; border: none;\">\n",
       "                0.0036\n",
       "                \n",
       "                    &plusmn; 0.0036\n",
       "                \n",
       "            </td>\n",
       "            <td style=\"padding: 0 0.5em 0 0.5em; text-align: left; border: none;\">\n",
       "                41\n",
       "            </td>\n",
       "        </tr>\n",
       "    \n",
       "        <tr style=\"background-color: hsl(120, 100.00%, 97.41%); border: none;\">\n",
       "            <td style=\"padding: 0 1em 0 0.5em; text-align: right; border: none;\">\n",
       "                0.0036\n",
       "                \n",
       "                    &plusmn; 0.0067\n",
       "                \n",
       "            </td>\n",
       "            <td style=\"padding: 0 0.5em 0 0.5em; text-align: left; border: none;\">\n",
       "                2\n",
       "            </td>\n",
       "        </tr>\n",
       "    \n",
       "        <tr style=\"background-color: hsl(120, 100.00%, 97.88%); border: none;\">\n",
       "            <td style=\"padding: 0 1em 0 0.5em; text-align: right; border: none;\">\n",
       "                0.0027\n",
       "                \n",
       "                    &plusmn; 0.0134\n",
       "                \n",
       "            </td>\n",
       "            <td style=\"padding: 0 0.5em 0 0.5em; text-align: left; border: none;\">\n",
       "                22\n",
       "            </td>\n",
       "        </tr>\n",
       "    \n",
       "        <tr style=\"background-color: hsl(120, 100.00%, 98.40%); border: none;\">\n",
       "            <td style=\"padding: 0 1em 0 0.5em; text-align: right; border: none;\">\n",
       "                0.0018\n",
       "                \n",
       "                    &plusmn; 0.0156\n",
       "                \n",
       "            </td>\n",
       "            <td style=\"padding: 0 0.5em 0 0.5em; text-align: left; border: none;\">\n",
       "                26\n",
       "            </td>\n",
       "        </tr>\n",
       "    \n",
       "        <tr style=\"background-color: hsl(120, 100.00%, 99.02%); border: none;\">\n",
       "            <td style=\"padding: 0 1em 0 0.5em; text-align: right; border: none;\">\n",
       "                0.0009\n",
       "                \n",
       "                    &plusmn; 0.0036\n",
       "                \n",
       "            </td>\n",
       "            <td style=\"padding: 0 0.5em 0 0.5em; text-align: left; border: none;\">\n",
       "                48\n",
       "            </td>\n",
       "        </tr>\n",
       "    \n",
       "        <tr style=\"background-color: hsl(120, 100.00%, 99.02%); border: none;\">\n",
       "            <td style=\"padding: 0 1em 0 0.5em; text-align: right; border: none;\">\n",
       "                0.0009\n",
       "                \n",
       "                    &plusmn; 0.0067\n",
       "                \n",
       "            </td>\n",
       "            <td style=\"padding: 0 0.5em 0 0.5em; text-align: left; border: none;\">\n",
       "                Parch\n",
       "            </td>\n",
       "        </tr>\n",
       "    \n",
       "        <tr style=\"background-color: hsl(120, 100.00%, 99.02%); border: none;\">\n",
       "            <td style=\"padding: 0 1em 0 0.5em; text-align: right; border: none;\">\n",
       "                0.0009\n",
       "                \n",
       "                    &plusmn; 0.0036\n",
       "                \n",
       "            </td>\n",
       "            <td style=\"padding: 0 0.5em 0 0.5em; text-align: left; border: none;\">\n",
       "                3\n",
       "            </td>\n",
       "        </tr>\n",
       "    \n",
       "        <tr style=\"background-color: hsl(120, 100.00%, 99.02%); border: none;\">\n",
       "            <td style=\"padding: 0 1em 0 0.5em; text-align: right; border: none;\">\n",
       "                0.0009\n",
       "                \n",
       "                    &plusmn; 0.0036\n",
       "                \n",
       "            </td>\n",
       "            <td style=\"padding: 0 0.5em 0 0.5em; text-align: left; border: none;\">\n",
       "                36\n",
       "            </td>\n",
       "        </tr>\n",
       "    \n",
       "        <tr style=\"background-color: hsl(120, 100.00%, 99.02%); border: none;\">\n",
       "            <td style=\"padding: 0 1em 0 0.5em; text-align: right; border: none;\">\n",
       "                0.0009\n",
       "                \n",
       "                    &plusmn; 0.0036\n",
       "                \n",
       "            </td>\n",
       "            <td style=\"padding: 0 0.5em 0 0.5em; text-align: left; border: none;\">\n",
       "                46\n",
       "            </td>\n",
       "        </tr>\n",
       "    \n",
       "        <tr style=\"background-color: hsl(120, 100.00%, 99.02%); border: none;\">\n",
       "            <td style=\"padding: 0 1em 0 0.5em; text-align: right; border: none;\">\n",
       "                0.0009\n",
       "                \n",
       "                    &plusmn; 0.0067\n",
       "                \n",
       "            </td>\n",
       "            <td style=\"padding: 0 0.5em 0 0.5em; text-align: left; border: none;\">\n",
       "                17\n",
       "            </td>\n",
       "        </tr>\n",
       "    \n",
       "    \n",
       "        \n",
       "            <tr style=\"background-color: hsl(120, 100.00%, 99.02%); border: none;\">\n",
       "                <td colspan=\"2\" style=\"padding: 0 0.5em 0 0.5em; text-align: center; border: none; white-space: nowrap;\">\n",
       "                    <i>&hellip; 61 more &hellip;</i>\n",
       "                </td>\n",
       "            </tr>\n",
       "        \n",
       "    \n",
       "    </tbody>\n",
       "</table>\n",
       "    \n",
       "\n",
       "    \n",
       "\n",
       "\n",
       "    \n",
       "\n",
       "    \n",
       "\n",
       "    \n",
       "\n",
       "    \n",
       "\n",
       "    \n",
       "\n",
       "    \n",
       "\n",
       "\n",
       "\n"
      ],
      "text/plain": [
       "<IPython.core.display.HTML object>"
      ]
     },
     "execution_count": 90,
     "metadata": {},
     "output_type": "execute_result"
    }
   ],
   "source": [
    "import eli5\n",
    "from eli5.sklearn import PermutationImportance\n",
    "\n",
    "perm = PermutationImportance(rf_model, random_state=1).fit(val_X, val_y)\n",
    "\n",
    "eli5.show_weights(perm, feature_names=val_X.columns.tolist())"
   ]
  },
  {
   "cell_type": "markdown",
   "metadata": {},
   "source": [
    "### Permutation importance of features"
   ]
  },
  {
   "cell_type": "markdown",
   "metadata": {},
   "source": [
    "Here it appears that Pclass, Fare, Age and sibsp have relatively high importance as features. One or two of the one-hot-encoded values also appear to have a high importance. With the current one-hot-encoder I unfortunately cannot tell which one these refers to."
   ]
  },
  {
   "cell_type": "code",
   "execution_count": 91,
   "metadata": {
    "pycharm": {
     "is_executing": true
    }
   },
   "outputs": [],
   "source": [
    "important_features = ['Pclass', 'Fare', 'Age','SibSp', '21', '71', '27', '30', '50', '1', '41', '2', '22', '26']"
   ]
  },
  {
   "cell_type": "code",
   "execution_count": 92,
   "metadata": {
    "pycharm": {
     "is_executing": true
    }
   },
   "outputs": [
    {
     "name": "stdout",
     "output_type": "stream",
     "text": [
      "Predictions:  [0 0 0 1 1]\n",
      "Y Values:  PassengerId\n",
      "496    0\n",
      "649    0\n",
      "279    0\n",
      "32     1\n",
      "256    1\n",
      "Name: Survived, dtype: int64\n",
      "Accuracy: 0.83%\n"
     ]
    },
    {
     "name": "stderr",
     "output_type": "stream",
     "text": [
      "<ipython-input-92-586d9f136193>:3: SettingWithCopyWarning: \n",
      "A value is trying to be set on a copy of a slice from a DataFrame\n",
      "\n",
      "See the caveats in the documentation: https://pandas.pydata.org/pandas-docs/stable/user_guide/indexing.html#returning-a-view-versus-a-copy\n",
      "  val_X.dropna(axis=0, how='any', inplace=True)\n"
     ]
    }
   ],
   "source": [
    "from sklearn.model_selection import train_test_split\n",
    "train_reduced_features_X, val_reduced_features_X, train_reduced_features_y, val_reduced_features_y = train_test_split(OH_X_train[important_features], y, random_state = 0)\n",
    "val_X.dropna(axis=0, how='any', inplace=True)\n",
    "\n",
    "from sklearn.ensemble import RandomForestClassifier\n",
    "rf_reduced_features_model = RandomForestClassifier(random_state=0)\n",
    "rf_reduced_features_model.fit(train_reduced_features_X, train_reduced_features_y.values.ravel())\n",
    "\n",
    "predictions = rf_reduced_features_model.predict(val_reduced_features_X)\n",
    "\n",
    "print('Predictions: ', predictions[0:5])\n",
    "print('Y Values: ', val_reduced_features_y[0:5])\n",
    "print(f'Accuracy: {rf_reduced_features_model.score(val_reduced_features_X, val_reduced_features_y):.2f}%')"
   ]
  },
  {
   "cell_type": "code",
   "execution_count": 93,
   "metadata": {
    "pycharm": {
     "is_executing": true,
     "name": "#%%\n"
    }
   },
   "outputs": [],
   "source": [
    "pd.options.display.max_rows\n",
    "pd.set_option('display.max_rows', None)"
   ]
  },
  {
   "cell_type": "code",
   "execution_count": 96,
   "metadata": {
    "pycharm": {
     "is_executing": true,
     "name": "#%%\n"
    }
   },
   "outputs": [
    {
     "name": "stdout",
     "output_type": "stream",
     "text": [
      "Pclass     3.000000\n",
      "Fare      14.458300\n",
      "Age       29.699118\n",
      "SibSp      0.000000\n",
      "21         1.000000\n",
      "71         1.000000\n",
      "27         1.000000\n",
      "30         0.000000\n",
      "50         0.000000\n",
      "1          0.000000\n",
      "41         0.000000\n",
      "2          0.000000\n",
      "22         0.000000\n",
      "26         0.000000\n",
      "Name: 496, dtype: float64\n"
     ]
    }
   ],
   "source": [
    "test_character = val_reduced_features_X.iloc[0]\n",
    "print(test_character)"
   ]
  },
  {
   "cell_type": "code",
   "execution_count": 97,
   "metadata": {},
   "outputs": [
    {
     "ename": "ValueError",
     "evalue": "Expected 2D array, got 1D array instead:\narray=[ 3.       14.4583   29.699118  0.        1.        1.        1.\n  0.        0.        0.        0.        0.        0.        0.      ].\nReshape your data either using array.reshape(-1, 1) if your data has a single feature or array.reshape(1, -1) if it contains a single sample.",
     "output_type": "error",
     "traceback": [
      "\u001B[0;31m---------------------------------------------------------------------------\u001B[0m",
      "\u001B[0;31mValueError\u001B[0m                                Traceback (most recent call last)",
      "\u001B[0;32m<ipython-input-97-a4669dab582b>\u001B[0m in \u001B[0;36m<module>\u001B[0;34m\u001B[0m\n\u001B[0;32m----> 1\u001B[0;31m \u001B[0mprediction\u001B[0m \u001B[0;34m=\u001B[0m \u001B[0mrf_reduced_features_model\u001B[0m\u001B[0;34m.\u001B[0m\u001B[0mpredict\u001B[0m\u001B[0;34m(\u001B[0m\u001B[0mtest_character\u001B[0m\u001B[0;34m)\u001B[0m\u001B[0;34m\u001B[0m\u001B[0;34m\u001B[0m\u001B[0m\n\u001B[0m",
      "\u001B[0;32m~/IdeaProjects/titanic_project/venv/lib/python3.8/site-packages/sklearn/ensemble/_forest.py\u001B[0m in \u001B[0;36mpredict\u001B[0;34m(self, X)\u001B[0m\n\u001B[1;32m    627\u001B[0m             \u001B[0mThe\u001B[0m \u001B[0mpredicted\u001B[0m \u001B[0mclasses\u001B[0m\u001B[0;34m.\u001B[0m\u001B[0;34m\u001B[0m\u001B[0;34m\u001B[0m\u001B[0m\n\u001B[1;32m    628\u001B[0m         \"\"\"\n\u001B[0;32m--> 629\u001B[0;31m         \u001B[0mproba\u001B[0m \u001B[0;34m=\u001B[0m \u001B[0mself\u001B[0m\u001B[0;34m.\u001B[0m\u001B[0mpredict_proba\u001B[0m\u001B[0;34m(\u001B[0m\u001B[0mX\u001B[0m\u001B[0;34m)\u001B[0m\u001B[0;34m\u001B[0m\u001B[0;34m\u001B[0m\u001B[0m\n\u001B[0m\u001B[1;32m    630\u001B[0m \u001B[0;34m\u001B[0m\u001B[0m\n\u001B[1;32m    631\u001B[0m         \u001B[0;32mif\u001B[0m \u001B[0mself\u001B[0m\u001B[0;34m.\u001B[0m\u001B[0mn_outputs_\u001B[0m \u001B[0;34m==\u001B[0m \u001B[0;36m1\u001B[0m\u001B[0;34m:\u001B[0m\u001B[0;34m\u001B[0m\u001B[0;34m\u001B[0m\u001B[0m\n",
      "\u001B[0;32m~/IdeaProjects/titanic_project/venv/lib/python3.8/site-packages/sklearn/ensemble/_forest.py\u001B[0m in \u001B[0;36mpredict_proba\u001B[0;34m(self, X)\u001B[0m\n\u001B[1;32m    671\u001B[0m         \u001B[0mcheck_is_fitted\u001B[0m\u001B[0;34m(\u001B[0m\u001B[0mself\u001B[0m\u001B[0;34m)\u001B[0m\u001B[0;34m\u001B[0m\u001B[0;34m\u001B[0m\u001B[0m\n\u001B[1;32m    672\u001B[0m         \u001B[0;31m# Check data\u001B[0m\u001B[0;34m\u001B[0m\u001B[0;34m\u001B[0m\u001B[0;34m\u001B[0m\u001B[0m\n\u001B[0;32m--> 673\u001B[0;31m         \u001B[0mX\u001B[0m \u001B[0;34m=\u001B[0m \u001B[0mself\u001B[0m\u001B[0;34m.\u001B[0m\u001B[0m_validate_X_predict\u001B[0m\u001B[0;34m(\u001B[0m\u001B[0mX\u001B[0m\u001B[0;34m)\u001B[0m\u001B[0;34m\u001B[0m\u001B[0;34m\u001B[0m\u001B[0m\n\u001B[0m\u001B[1;32m    674\u001B[0m \u001B[0;34m\u001B[0m\u001B[0m\n\u001B[1;32m    675\u001B[0m         \u001B[0;31m# Assign chunk of trees to jobs\u001B[0m\u001B[0;34m\u001B[0m\u001B[0;34m\u001B[0m\u001B[0;34m\u001B[0m\u001B[0m\n",
      "\u001B[0;32m~/IdeaProjects/titanic_project/venv/lib/python3.8/site-packages/sklearn/ensemble/_forest.py\u001B[0m in \u001B[0;36m_validate_X_predict\u001B[0;34m(self, X)\u001B[0m\n\u001B[1;32m    419\u001B[0m         \u001B[0mcheck_is_fitted\u001B[0m\u001B[0;34m(\u001B[0m\u001B[0mself\u001B[0m\u001B[0;34m)\u001B[0m\u001B[0;34m\u001B[0m\u001B[0;34m\u001B[0m\u001B[0m\n\u001B[1;32m    420\u001B[0m \u001B[0;34m\u001B[0m\u001B[0m\n\u001B[0;32m--> 421\u001B[0;31m         \u001B[0;32mreturn\u001B[0m \u001B[0mself\u001B[0m\u001B[0;34m.\u001B[0m\u001B[0mestimators_\u001B[0m\u001B[0;34m[\u001B[0m\u001B[0;36m0\u001B[0m\u001B[0;34m]\u001B[0m\u001B[0;34m.\u001B[0m\u001B[0m_validate_X_predict\u001B[0m\u001B[0;34m(\u001B[0m\u001B[0mX\u001B[0m\u001B[0;34m,\u001B[0m \u001B[0mcheck_input\u001B[0m\u001B[0;34m=\u001B[0m\u001B[0;32mTrue\u001B[0m\u001B[0;34m)\u001B[0m\u001B[0;34m\u001B[0m\u001B[0;34m\u001B[0m\u001B[0m\n\u001B[0m\u001B[1;32m    422\u001B[0m \u001B[0;34m\u001B[0m\u001B[0m\n\u001B[1;32m    423\u001B[0m     \u001B[0;34m@\u001B[0m\u001B[0mproperty\u001B[0m\u001B[0;34m\u001B[0m\u001B[0;34m\u001B[0m\u001B[0m\n",
      "\u001B[0;32m~/IdeaProjects/titanic_project/venv/lib/python3.8/site-packages/sklearn/tree/_classes.py\u001B[0m in \u001B[0;36m_validate_X_predict\u001B[0;34m(self, X, check_input)\u001B[0m\n\u001B[1;32m    386\u001B[0m         \u001B[0;34m\"\"\"Validate X whenever one tries to predict, apply, predict_proba\"\"\"\u001B[0m\u001B[0;34m\u001B[0m\u001B[0;34m\u001B[0m\u001B[0m\n\u001B[1;32m    387\u001B[0m         \u001B[0;32mif\u001B[0m \u001B[0mcheck_input\u001B[0m\u001B[0;34m:\u001B[0m\u001B[0;34m\u001B[0m\u001B[0;34m\u001B[0m\u001B[0m\n\u001B[0;32m--> 388\u001B[0;31m             \u001B[0mX\u001B[0m \u001B[0;34m=\u001B[0m \u001B[0mcheck_array\u001B[0m\u001B[0;34m(\u001B[0m\u001B[0mX\u001B[0m\u001B[0;34m,\u001B[0m \u001B[0mdtype\u001B[0m\u001B[0;34m=\u001B[0m\u001B[0mDTYPE\u001B[0m\u001B[0;34m,\u001B[0m \u001B[0maccept_sparse\u001B[0m\u001B[0;34m=\u001B[0m\u001B[0;34m\"csr\"\u001B[0m\u001B[0;34m)\u001B[0m\u001B[0;34m\u001B[0m\u001B[0;34m\u001B[0m\u001B[0m\n\u001B[0m\u001B[1;32m    389\u001B[0m             if issparse(X) and (X.indices.dtype != np.intc or\n\u001B[1;32m    390\u001B[0m                                 X.indptr.dtype != np.intc):\n",
      "\u001B[0;32m~/IdeaProjects/titanic_project/venv/lib/python3.8/site-packages/sklearn/utils/validation.py\u001B[0m in \u001B[0;36minner_f\u001B[0;34m(*args, **kwargs)\u001B[0m\n\u001B[1;32m     70\u001B[0m                           FutureWarning)\n\u001B[1;32m     71\u001B[0m         \u001B[0mkwargs\u001B[0m\u001B[0;34m.\u001B[0m\u001B[0mupdate\u001B[0m\u001B[0;34m(\u001B[0m\u001B[0;34m{\u001B[0m\u001B[0mk\u001B[0m\u001B[0;34m:\u001B[0m \u001B[0marg\u001B[0m \u001B[0;32mfor\u001B[0m \u001B[0mk\u001B[0m\u001B[0;34m,\u001B[0m \u001B[0marg\u001B[0m \u001B[0;32min\u001B[0m \u001B[0mzip\u001B[0m\u001B[0;34m(\u001B[0m\u001B[0msig\u001B[0m\u001B[0;34m.\u001B[0m\u001B[0mparameters\u001B[0m\u001B[0;34m,\u001B[0m \u001B[0margs\u001B[0m\u001B[0;34m)\u001B[0m\u001B[0;34m}\u001B[0m\u001B[0;34m)\u001B[0m\u001B[0;34m\u001B[0m\u001B[0;34m\u001B[0m\u001B[0m\n\u001B[0;32m---> 72\u001B[0;31m         \u001B[0;32mreturn\u001B[0m \u001B[0mf\u001B[0m\u001B[0;34m(\u001B[0m\u001B[0;34m**\u001B[0m\u001B[0mkwargs\u001B[0m\u001B[0;34m)\u001B[0m\u001B[0;34m\u001B[0m\u001B[0;34m\u001B[0m\u001B[0m\n\u001B[0m\u001B[1;32m     73\u001B[0m     \u001B[0;32mreturn\u001B[0m \u001B[0minner_f\u001B[0m\u001B[0;34m\u001B[0m\u001B[0;34m\u001B[0m\u001B[0m\n\u001B[1;32m     74\u001B[0m \u001B[0;34m\u001B[0m\u001B[0m\n",
      "\u001B[0;32m~/IdeaProjects/titanic_project/venv/lib/python3.8/site-packages/sklearn/utils/validation.py\u001B[0m in \u001B[0;36mcheck_array\u001B[0;34m(array, accept_sparse, accept_large_sparse, dtype, order, copy, force_all_finite, ensure_2d, allow_nd, ensure_min_samples, ensure_min_features, estimator)\u001B[0m\n\u001B[1;32m    617\u001B[0m             \u001B[0;31m# If input is 1D raise error\u001B[0m\u001B[0;34m\u001B[0m\u001B[0;34m\u001B[0m\u001B[0;34m\u001B[0m\u001B[0m\n\u001B[1;32m    618\u001B[0m             \u001B[0;32mif\u001B[0m \u001B[0marray\u001B[0m\u001B[0;34m.\u001B[0m\u001B[0mndim\u001B[0m \u001B[0;34m==\u001B[0m \u001B[0;36m1\u001B[0m\u001B[0;34m:\u001B[0m\u001B[0;34m\u001B[0m\u001B[0;34m\u001B[0m\u001B[0m\n\u001B[0;32m--> 619\u001B[0;31m                 raise ValueError(\n\u001B[0m\u001B[1;32m    620\u001B[0m                     \u001B[0;34m\"Expected 2D array, got 1D array instead:\\narray={}.\\n\"\u001B[0m\u001B[0;34m\u001B[0m\u001B[0;34m\u001B[0m\u001B[0m\n\u001B[1;32m    621\u001B[0m                     \u001B[0;34m\"Reshape your data either using array.reshape(-1, 1) if \"\u001B[0m\u001B[0;34m\u001B[0m\u001B[0;34m\u001B[0m\u001B[0m\n",
      "\u001B[0;31mValueError\u001B[0m: Expected 2D array, got 1D array instead:\narray=[ 3.       14.4583   29.699118  0.        1.        1.        1.\n  0.        0.        0.        0.        0.        0.        0.      ].\nReshape your data either using array.reshape(-1, 1) if your data has a single feature or array.reshape(1, -1) if it contains a single sample."
     ]
    }
   ],
   "source": [
    "prediction = rf_reduced_features_model.predict(test_character)"
   ]
  },
  {
   "cell_type": "markdown",
   "metadata": {
    "pycharm": {
     "name": "#%% md\n"
    }
   },
   "source": [
    "We can see here our accuracy has actually been reduced by using only the features that the permutation said were important."
   ]
  },
  {
   "cell_type": "markdown",
   "metadata": {},
   "source": [
    "### Partial dependence plots"
   ]
  },
  {
   "cell_type": "code",
   "execution_count": null,
   "metadata": {
    "pycharm": {
     "is_executing": true
    }
   },
   "outputs": [],
   "source": [
    "from pdpbox import pdp, get_dataset, info_plots\n",
    "\n",
    "\n",
    "for feature_name in important_features:\n",
    "    pdp_goals = pdp.pdp_isolate(model=rf_model, dataset=val_X, model_features=val_X.columns.tolist(), feature=feature_name)\n",
    "    pdp.pdp_plot(pdp_goals, feature_name)\n",
    "    plt.show()"
   ]
  },
  {
   "cell_type": "markdown",
   "metadata": {},
   "source": [
    "### 2D Partial Dependance Plots"
   ]
  },
  {
   "cell_type": "code",
   "execution_count": null,
   "metadata": {
    "pycharm": {
     "is_executing": true
    }
   },
   "outputs": [],
   "source": [
    "inter1 = pdp.pdp_interact(model=rf_model, dataset=val_X, model_features=val_X.columns.tolist(), features=important_features)\n",
    "pdp.pdp_interact_plot(pdp_interact_out=inter1, feature_names=val_X.columns.tolist(), plot_type='contour')\n",
    "plt.show()"
   ]
  },
  {
   "cell_type": "markdown",
   "metadata": {
    "pycharm": {
     "name": "#%% md\n"
    }
   },
   "source": [
    "### SHAP Values\n",
    "break down a prediction to show the impact of each feature."
   ]
  },
  {
   "cell_type": "code",
   "execution_count": null,
   "metadata": {
    "pycharm": {
     "is_executing": true
    }
   },
   "outputs": [],
   "source": [
    "row_to_show = 5\n",
    "data_for_prediction = val_X.iloc[row_to_show]  # use 1 row of data here. Could use multiple rows if desired\n",
    "data_for_prediction_array = data_for_prediction.values.reshape(1, -1)\n",
    "\n",
    "\n",
    "rf_model.predict_proba(data_for_prediction_array)"
   ]
  },
  {
   "cell_type": "code",
   "execution_count": null,
   "metadata": {
    "pycharm": {
     "is_executing": true
    }
   },
   "outputs": [],
   "source": [
    "import shap\n",
    "explainer = shap.TreeExplainer(rf_model)\n",
    "shap_values = explainer.shap_values(data_for_prediction)\n",
    "shap.initjs()\n",
    "data_for_prediction = val_X.iloc[1]\n",
    "shap.force_plot(explainer.expected_value[1], shap_values[1], data_for_prediction) # looking at values for those that surrived\n",
    "#  Shap values show how much a given feature changed our prediction (compared to if we made that prediction at some baseline value of that feature)."
   ]
  },
  {
   "cell_type": "code",
   "execution_count": null,
   "metadata": {
    "pycharm": {
     "is_executing": true,
     "name": "#%%\n"
    }
   },
   "outputs": [],
   "source": [
    "# Create object that can calculate shap values\n",
    "explainer = shap.TreeExplainer(rf_model)\n",
    "\n",
    "# calculate shap values. This is what we will plot.\n",
    "# Calculate shap_values for all of val_X rather than a single row, to have more data for plot.\n",
    "shap_values = explainer.shap_values(val_X)\n",
    "\n",
    "# Make plot. Index of [1] is explained in text below.\n",
    "shap.summary_plot(shap_values[1], val_X)"
   ]
  },
  {
   "cell_type": "code",
   "execution_count": null,
   "metadata": {
    "pycharm": {
     "is_executing": true
    }
   },
   "outputs": [],
   "source": [
    "# # Create object that can calculate shap values\n",
    "# explainer = shap.TreeExplainer(my_model)\n",
    "\n",
    "# # calculate shap values. This is what we will plot.\n",
    "# shap_values = explainer.shap_values(X)\n",
    "\n",
    "# make plot.\n",
    "shap.dependence_plot('Age', shap_values[1], val_X, interaction_index=\"Pclass\")"
   ]
  },
  {
   "cell_type": "markdown",
   "metadata": {},
   "source": [
    "### Serialize model"
   ]
  },
  {
   "cell_type": "code",
   "execution_count": null,
   "metadata": {
    "pycharm": {
     "is_executing": true,
     "name": "#%%\n"
    }
   },
   "outputs": [],
   "source": [
    "import joblib\n",
    "joblib.dump(rf_model, \"../../src/artifacts/titanic_clf.joblib\")"
   ]
  },
  {
   "cell_type": "code",
   "execution_count": null,
   "metadata": {
    "pycharm": {
     "is_executing": true,
     "name": "#%%\n"
    }
   },
   "outputs": [],
   "source": []
  },
  {
   "cell_type": "markdown",
   "metadata": {},
   "source": []
  },
  {
   "cell_type": "code",
   "execution_count": null,
   "metadata": {
    "pycharm": {
     "is_executing": true
    }
   },
   "outputs": [],
   "source": [
    "import joblib\n",
    "joblib.dump(rf_model, \"../../src/artifacts/titanic_clf.joblib\")"
   ]
  },
  {
   "cell_type": "code",
   "execution_count": null,
   "metadata": {
    "pycharm": {
     "is_executing": true
    }
   },
   "outputs": [],
   "source": []
  }
 ],
 "metadata": {
  "kernelspec": {
   "display_name": "Python 3",
   "language": "python",
   "name": "python3"
  }
 },
 "nbformat": 4,
 "nbformat_minor": 4
}